{
 "cells": [
  {
   "cell_type": "markdown",
   "metadata": {},
   "source": [
    "# PGA: Capstone Project - The Battle of Neighborhoods (Week 1)\n",
    "## Data retrieval and exploration"
   ]
  },
  {
   "cell_type": "markdown",
   "metadata": {},
   "source": [
    "**Importing the libraries for our tasks.**"
   ]
  },
  {
   "cell_type": "code",
   "execution_count": 1,
   "metadata": {},
   "outputs": [],
   "source": [
    "import pandas as pd\n",
    "import numpy as np\n",
    "import matplotlib.pyplot as plt\n",
    "\n",
    "from geopy.geocoders import Nominatim\n",
    "\n",
    "import folium\n",
    "\n",
    "import json\n",
    "import requests\n",
    "from pandas.io.json import json_normalize"
   ]
  },
  {
   "cell_type": "markdown",
   "metadata": {},
   "source": [
    "### First data source: Scraping German cities wikipedia table"
   ]
  },
  {
   "cell_type": "code",
   "execution_count": 2,
   "metadata": {
    "scrolled": true
   },
   "outputs": [
    {
     "name": "stdout",
     "output_type": "stream",
     "text": [
      "(700, 3)\n",
      "City          object\n",
      "Population    object\n",
      "State         object\n",
      "dtype: object\n"
     ]
    },
    {
     "data": {
      "text/html": [
       "<div>\n",
       "<style scoped>\n",
       "    .dataframe tbody tr th:only-of-type {\n",
       "        vertical-align: middle;\n",
       "    }\n",
       "\n",
       "    .dataframe tbody tr th {\n",
       "        vertical-align: top;\n",
       "    }\n",
       "\n",
       "    .dataframe thead th {\n",
       "        text-align: right;\n",
       "    }\n",
       "</style>\n",
       "<table border=\"1\" class=\"dataframe\">\n",
       "  <thead>\n",
       "    <tr style=\"text-align: right;\">\n",
       "      <th></th>\n",
       "      <th>City</th>\n",
       "      <th>Population</th>\n",
       "      <th>State</th>\n",
       "    </tr>\n",
       "  </thead>\n",
       "  <tbody>\n",
       "    <tr>\n",
       "      <th>0</th>\n",
       "      <td>Berlin</td>\n",
       "      <td>3.644.826</td>\n",
       "      <td>Berlin</td>\n",
       "    </tr>\n",
       "    <tr>\n",
       "      <th>1</th>\n",
       "      <td>Hamburg</td>\n",
       "      <td>1.841.179</td>\n",
       "      <td>Hamburg</td>\n",
       "    </tr>\n",
       "    <tr>\n",
       "      <th>2</th>\n",
       "      <td>München</td>\n",
       "      <td>1.471.508</td>\n",
       "      <td>Bayern</td>\n",
       "    </tr>\n",
       "    <tr>\n",
       "      <th>3</th>\n",
       "      <td>Köln</td>\n",
       "      <td>1.085.664</td>\n",
       "      <td>Nordrhein-Westfalen</td>\n",
       "    </tr>\n",
       "    <tr>\n",
       "      <th>4</th>\n",
       "      <td>Frankfurt am Main</td>\n",
       "      <td>753.056</td>\n",
       "      <td>Hessen</td>\n",
       "    </tr>\n",
       "  </tbody>\n",
       "</table>\n",
       "</div>"
      ],
      "text/plain": [
       "                City Population                State\n",
       "0             Berlin  3.644.826               Berlin\n",
       "1            Hamburg  1.841.179              Hamburg\n",
       "2            München  1.471.508               Bayern\n",
       "3               Köln  1.085.664  Nordrhein-Westfalen\n",
       "4  Frankfurt am Main    753.056               Hessen"
      ]
     },
     "execution_count": 2,
     "metadata": {},
     "output_type": "execute_result"
    }
   ],
   "source": [
    "url='https://de.wikipedia.org/wiki/Liste_der_Gro%C3%9F-_und_Mittelst%C3%A4dte_in_Deutschland#Gro%C3%9F-_und_Mittelst%C3%A4dte_nach_Einwohnerzahl'\n",
    "\n",
    "dfs = pd.read_html(url, attrs={'class': 'wikitable sortable zebra'})\n",
    "gercities = dfs[1]\n",
    "gercities.drop(['Rang', '1970', '1980', '1990', '2000', '2010'], axis=1, inplace=True)\n",
    "gercities.rename(columns={\"Name\": \"City\", \"2018\": \"Population\", \"Bundesland\": \"State\"}, inplace=True)\n",
    "print(gercities.shape)\n",
    "print(gercities.dtypes)\n",
    "gercities.head()"
   ]
  },
  {
   "cell_type": "markdown",
   "metadata": {},
   "source": [
    "**Conversion of datatypes, replacement of umlauts, dropping 'State' column.**"
   ]
  },
  {
   "cell_type": "code",
   "execution_count": 3,
   "metadata": {
    "scrolled": true
   },
   "outputs": [
    {
     "name": "stdout",
     "output_type": "stream",
     "text": [
      "City          string\n",
      "Population     int64\n",
      "dtype: object\n"
     ]
    },
    {
     "data": {
      "text/html": [
       "<div>\n",
       "<style scoped>\n",
       "    .dataframe tbody tr th:only-of-type {\n",
       "        vertical-align: middle;\n",
       "    }\n",
       "\n",
       "    .dataframe tbody tr th {\n",
       "        vertical-align: top;\n",
       "    }\n",
       "\n",
       "    .dataframe thead th {\n",
       "        text-align: right;\n",
       "    }\n",
       "</style>\n",
       "<table border=\"1\" class=\"dataframe\">\n",
       "  <thead>\n",
       "    <tr style=\"text-align: right;\">\n",
       "      <th></th>\n",
       "      <th>City</th>\n",
       "      <th>Population</th>\n",
       "    </tr>\n",
       "  </thead>\n",
       "  <tbody>\n",
       "    <tr>\n",
       "      <th>0</th>\n",
       "      <td>Berlin</td>\n",
       "      <td>3644826</td>\n",
       "    </tr>\n",
       "    <tr>\n",
       "      <th>1</th>\n",
       "      <td>Hamburg</td>\n",
       "      <td>1841179</td>\n",
       "    </tr>\n",
       "    <tr>\n",
       "      <th>2</th>\n",
       "      <td>Muenchen</td>\n",
       "      <td>1471508</td>\n",
       "    </tr>\n",
       "    <tr>\n",
       "      <th>3</th>\n",
       "      <td>Koeln</td>\n",
       "      <td>1085664</td>\n",
       "    </tr>\n",
       "    <tr>\n",
       "      <th>4</th>\n",
       "      <td>Frankfurt am Main</td>\n",
       "      <td>753056</td>\n",
       "    </tr>\n",
       "  </tbody>\n",
       "</table>\n",
       "</div>"
      ],
      "text/plain": [
       "                City  Population\n",
       "0             Berlin     3644826\n",
       "1            Hamburg     1841179\n",
       "2           Muenchen     1471508\n",
       "3              Koeln     1085664\n",
       "4  Frankfurt am Main      753056"
      ]
     },
     "execution_count": 3,
     "metadata": {},
     "output_type": "execute_result"
    }
   ],
   "source": [
    "gercities.drop(['State'], axis=1, inplace=True)\n",
    "gercities = gercities.convert_dtypes()\n",
    "gercities['Population'] = gercities['Population'].str.replace('.', '').astype('int')\n",
    "gercities['City'] = gercities['City'].str.replace('ü', 'ue')\n",
    "gercities['City'] = gercities['City'].str.replace('ä', 'ae')\n",
    "gercities['City'] = gercities['City'].str.replace('ö', 'oe')\n",
    "gercities['City'] = gercities['City'].str.replace('ß', 'ss')\n",
    "print(gercities.dtypes)\n",
    "gercities.head()"
   ]
  },
  {
   "cell_type": "markdown",
   "metadata": {},
   "source": [
    "**Histogram plot by population.**"
   ]
  },
  {
   "cell_type": "code",
   "execution_count": 4,
   "metadata": {
    "scrolled": true
   },
   "outputs": [
    {
     "data": {
      "text/plain": [
       "array([[<matplotlib.axes._subplots.AxesSubplot object at 0x7f91f8d6a950>]],\n",
       "      dtype=object)"
      ]
     },
     "execution_count": 4,
     "metadata": {},
     "output_type": "execute_result"
    },
    {
     "data": {
      "image/png": "[encoded data removed]",
      "text/plain": [
       "<Figure size 1440x360 with 1 Axes>"
      ]
     },
     "metadata": {
      "needs_background": "light"
     },
     "output_type": "display_data"
    }
   ],
   "source": [
    "gercities.hist(column='Population', bins=np.arange(0,4000000,50000), figsize=(20, 5))"
   ]
  },
  {
   "cell_type": "markdown",
   "metadata": {},
   "source": [
    "#### First observation: The majority of the cities have a population size below 100,000.\n",
    "To reduce the time of the subsequent processing, these cities will be excluded from the dataframe."
   ]
  },
  {
   "cell_type": "code",
   "execution_count": 5,
   "metadata": {
    "scrolled": false
   },
   "outputs": [
    {
     "name": "stdout",
     "output_type": "stream",
     "text": [
      "(81, 2)\n"
     ]
    },
    {
     "data": {
      "text/html": [
       "<div>\n",
       "<style scoped>\n",
       "    .dataframe tbody tr th:only-of-type {\n",
       "        vertical-align: middle;\n",
       "    }\n",
       "\n",
       "    .dataframe tbody tr th {\n",
       "        vertical-align: top;\n",
       "    }\n",
       "\n",
       "    .dataframe thead th {\n",
       "        text-align: right;\n",
       "    }\n",
       "</style>\n",
       "<table border=\"1\" class=\"dataframe\">\n",
       "  <thead>\n",
       "    <tr style=\"text-align: right;\">\n",
       "      <th></th>\n",
       "      <th>City</th>\n",
       "      <th>Population</th>\n",
       "    </tr>\n",
       "  </thead>\n",
       "  <tbody>\n",
       "    <tr>\n",
       "      <th>0</th>\n",
       "      <td>Berlin</td>\n",
       "      <td>3644826</td>\n",
       "    </tr>\n",
       "    <tr>\n",
       "      <th>1</th>\n",
       "      <td>Hamburg</td>\n",
       "      <td>1841179</td>\n",
       "    </tr>\n",
       "    <tr>\n",
       "      <th>2</th>\n",
       "      <td>Muenchen</td>\n",
       "      <td>1471508</td>\n",
       "    </tr>\n",
       "    <tr>\n",
       "      <th>3</th>\n",
       "      <td>Koeln</td>\n",
       "      <td>1085664</td>\n",
       "    </tr>\n",
       "    <tr>\n",
       "      <th>4</th>\n",
       "      <td>Frankfurt am Main</td>\n",
       "      <td>753056</td>\n",
       "    </tr>\n",
       "  </tbody>\n",
       "</table>\n",
       "</div>"
      ],
      "text/plain": [
       "                City  Population\n",
       "0             Berlin     3644826\n",
       "1            Hamburg     1841179\n",
       "2           Muenchen     1471508\n",
       "3              Koeln     1085664\n",
       "4  Frankfurt am Main      753056"
      ]
     },
     "execution_count": 5,
     "metadata": {},
     "output_type": "execute_result"
    }
   ],
   "source": [
    "gercities_red = gercities.loc[gercities['Population'] > 100000]\n",
    "print(gercities_red.shape)\n",
    "gercities_red.head()"
   ]
  },
  {
   "cell_type": "markdown",
   "metadata": {},
   "source": [
    "We still have 81 cities left."
   ]
  },
  {
   "cell_type": "markdown",
   "metadata": {},
   "source": [
    "One city name is an irregular expression which would cause an error during retrieving the geolocation."
   ]
  },
  {
   "cell_type": "code",
   "execution_count": 6,
   "metadata": {},
   "outputs": [
    {
     "name": "stderr",
     "output_type": "stream",
     "text": [
      "/home/lars/anaconda3/lib/python3.7/site-packages/pandas/core/indexing.py:966: SettingWithCopyWarning: \n",
      "A value is trying to be set on a copy of a slice from a DataFrame.\n",
      "Try using .loc[row_indexer,col_indexer] = value instead\n",
      "\n",
      "See the caveats in the documentation: https://pandas.pydata.org/pandas-docs/stable/user_guide/indexing.html#returning-a-view-versus-a-copy\n",
      "  self.obj[item] = s\n"
     ]
    },
    {
     "data": {
      "text/plain": [
       "'Chemnitz'"
      ]
     },
     "execution_count": 6,
     "metadata": {},
     "output_type": "execute_result"
    }
   ],
   "source": [
    "gercities_red.loc[29, 'City'] = 'Chemnitz'\n",
    "gercities_red.loc[29, 'City']"
   ]
  },
  {
   "cell_type": "markdown",
   "metadata": {},
   "source": [
    "**Adding geolocation**"
   ]
  },
  {
   "cell_type": "code",
   "execution_count": 7,
   "metadata": {
    "scrolled": false
   },
   "outputs": [
    {
     "name": "stdout",
     "output_type": "stream",
     "text": [
      "(81, 4)\n"
     ]
    },
    {
     "data": {
      "text/html": [
       "<div>\n",
       "<style scoped>\n",
       "    .dataframe tbody tr th:only-of-type {\n",
       "        vertical-align: middle;\n",
       "    }\n",
       "\n",
       "    .dataframe tbody tr th {\n",
       "        vertical-align: top;\n",
       "    }\n",
       "\n",
       "    .dataframe thead th {\n",
       "        text-align: right;\n",
       "    }\n",
       "</style>\n",
       "<table border=\"1\" class=\"dataframe\">\n",
       "  <thead>\n",
       "    <tr style=\"text-align: right;\">\n",
       "      <th></th>\n",
       "      <th>City</th>\n",
       "      <th>Population</th>\n",
       "      <th>Latitude</th>\n",
       "      <th>Longitude</th>\n",
       "    </tr>\n",
       "  </thead>\n",
       "  <tbody>\n",
       "    <tr>\n",
       "      <th>0</th>\n",
       "      <td>Berlin</td>\n",
       "      <td>3644826</td>\n",
       "      <td>52.517037</td>\n",
       "      <td>13.388860</td>\n",
       "    </tr>\n",
       "    <tr>\n",
       "      <th>1</th>\n",
       "      <td>Hamburg</td>\n",
       "      <td>1841179</td>\n",
       "      <td>53.543764</td>\n",
       "      <td>10.009913</td>\n",
       "    </tr>\n",
       "    <tr>\n",
       "      <th>2</th>\n",
       "      <td>Muenchen</td>\n",
       "      <td>1471508</td>\n",
       "      <td>48.137108</td>\n",
       "      <td>11.575382</td>\n",
       "    </tr>\n",
       "    <tr>\n",
       "      <th>3</th>\n",
       "      <td>Koeln</td>\n",
       "      <td>1085664</td>\n",
       "      <td>50.938361</td>\n",
       "      <td>6.959974</td>\n",
       "    </tr>\n",
       "    <tr>\n",
       "      <th>4</th>\n",
       "      <td>Frankfurt am Main</td>\n",
       "      <td>753056</td>\n",
       "      <td>50.110644</td>\n",
       "      <td>8.682092</td>\n",
       "    </tr>\n",
       "  </tbody>\n",
       "</table>\n",
       "</div>"
      ],
      "text/plain": [
       "                City  Population   Latitude  Longitude\n",
       "0             Berlin     3644826  52.517037  13.388860\n",
       "1            Hamburg     1841179  53.543764  10.009913\n",
       "2           Muenchen     1471508  48.137108  11.575382\n",
       "3              Koeln     1085664  50.938361   6.959974\n",
       "4  Frankfurt am Main      753056  50.110644   8.682092"
      ]
     },
     "execution_count": 7,
     "metadata": {},
     "output_type": "execute_result"
    }
   ],
   "source": [
    "lat_list=[]\n",
    "lng_list=[]\n",
    "\n",
    "for row in range(gercities_red.shape[0]):\n",
    "    geolocator = Nominatim(user_agent=\"coursera_capstone\")\n",
    "    location = geolocator.geocode('{}, Germany'.format(gercities_red.iloc[row, 0]))\n",
    "    try:\n",
    "        lat_list.append(location.latitude)\n",
    "        lng_list.append(location.longitude)\n",
    "    except AttributeError:\n",
    "        lat_list.append('NaN')\n",
    "        lng_list.append('NaN')\n",
    "        continue\n",
    "\n",
    "gercities_red.insert(loc=2, column='Latitude', value=lat_list)\n",
    "gercities_red.insert(loc=3, column='Longitude', value=lng_list)\n",
    "print(gercities_red.shape)\n",
    "gercities_red.head()"
   ]
  },
  {
   "cell_type": "markdown",
   "metadata": {},
   "source": [
    "**Mapping the locations of the cities**"
   ]
  },
  {
   "cell_type": "code",
   "execution_count": 8,
   "metadata": {},
   "outputs": [
    {
     "data": {
      "text/html": [
       "<div style=\"width:100%;\"><div style=\"position:relative;width:100%;height:0;padding-bottom:60%;\"><span style=\"color:#565656\">Make this Notebook Trusted to load map: File -> Trust Notebook</span><iframe src=\"about:blank\" style=\"position:absolute;width:100%;height:100%;left:0;top:0;border:none !important;\" data-html=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 onload=\"this.contentDocument.open();this.contentDocument.write(atob(this.getAttribute('data-html')));this.contentDocument.close();\" allowfullscreen webkitallowfullscreen mozallowfullscreen></iframe></div></div>"
      ],
      "text/plain": [
       "<folium.folium.Map at 0x7f91f83feb10>"
      ]
     },
     "execution_count": 8,
     "metadata": {},
     "output_type": "execute_result"
    }
   ],
   "source": [
    "# creating the map\n",
    "map_ger_cities = folium.Map(location=[51.351, 10.454], zoom_start=5.5)\n",
    "\n",
    "# add markers of citis to map\n",
    "for lat, lng, city, pop in zip(gercities_red['Latitude'], gercities_red['Longitude'], gercities_red['City'], gercities_red['Population']):\n",
    "    label = '{} (Population: {})'.format(city, pop)\n",
    "    label = folium.Popup(label, parse_html=True)\n",
    "    folium.CircleMarker(\n",
    "        [lat, lng],\n",
    "        radius=5,\n",
    "        popup=label,\n",
    "        color='blue',\n",
    "        fill=True,\n",
    "        fill_color='#3186cc',\n",
    "        fill_opacity=0.7,\n",
    "        parse_html=False).add_to(map_ger_cities)\n",
    "\n",
    "map_ger_cities"
   ]
  },
  {
   "cell_type": "markdown",
   "metadata": {},
   "source": [
    "### Second data source: Retrieving the venues for the cities from Foursquare."
   ]
  },
  {
   "cell_type": "code",
   "execution_count": 9,
   "metadata": {},
   "outputs": [
    {
     "name": "stdout",
     "output_type": "stream",
     "text": [
      "Your credentails:\n",
      "CLIENT_ID: AOUOE4WYOQXAMZABF1J3HUQCXZ0GBEETIUCZDQOUYR0JGRQD\n",
      "CLIENT_SECRET:MCY5M5APBTGR1J2QR20PQLZ2YVJBXRBG4OOML1ZHAMLHYCGR\n"
     ]
    }
   ],
   "source": [
    "CLIENT_ID = 'AOUOE4WYOQXAMZABF1J3HUQCXZ0GBEETIUCZDQOUYR0JGRQD' # your Foursquare ID\n",
    "CLIENT_SECRET = 'MCY5M5APBTGR1J2QR20PQLZ2YVJBXRBG4OOML1ZHAMLHYCGR' # your Foursquare Secret\n",
    "VERSION = '20200522' # Foursquare API version\n",
    "LIMIT = 500\n",
    "\n",
    "print('Your credentails:')\n",
    "print('CLIENT_ID: ' + CLIENT_ID)\n",
    "print('CLIENT_SECRET:' + CLIENT_SECRET)"
   ]
  },
  {
   "cell_type": "code",
   "execution_count": 10,
   "metadata": {},
   "outputs": [],
   "source": [
    "def getNearbyVenues(cities, latitudes, longitudes, radius):\n",
    "    \n",
    "    venues_list=[]\n",
    "    for city, lat, lng in zip(cities, latitudes, longitudes):\n",
    "        print(city)\n",
    "            \n",
    "        # create the API request URL\n",
    "        url = 'https://api.foursquare.com/v2/venues/explore?&client_id={}&client_secret={}&v={}&ll={},{}&radius={}&limit={}'.format(\n",
    "            CLIENT_ID, \n",
    "            CLIENT_SECRET, \n",
    "            VERSION, \n",
    "            lat, \n",
    "            lng, \n",
    "            radius, \n",
    "            LIMIT)\n",
    "            \n",
    "        # make the GET request\n",
    "        results = requests.get(url).json()[\"response\"]['groups'][0]['items']\n",
    "        \n",
    "        # return only relevant information for each nearby venue\n",
    "        venues_list.append([(\n",
    "            city, \n",
    "            lat, \n",
    "            lng, \n",
    "            v['venue']['name'],  \n",
    "            v['venue']['categories'][0]['name']) for v in results])\n",
    "\n",
    "    nearby_venues = pd.DataFrame([item for venue_list in venues_list for item in venue_list])\n",
    "    nearby_venues.columns = ['City', \n",
    "                  'City Latitude', \n",
    "                  'City Longitude', \n",
    "                  'Venue', \n",
    "                  'Venue Category']\n",
    "    \n",
    "    return(nearby_venues)"
   ]
  },
  {
   "cell_type": "markdown",
   "metadata": {},
   "source": [
    "Starting with a search radius of 5000m to ensure that we get the maximum count of venues for the cities."
   ]
  },
  {
   "cell_type": "code",
   "execution_count": 11,
   "metadata": {},
   "outputs": [
    {
     "name": "stdout",
     "output_type": "stream",
     "text": [
      "Berlin\n",
      "Hamburg\n",
      "Muenchen\n",
      "Koeln\n",
      "Frankfurt am Main\n",
      "Stuttgart\n",
      "Duesseldorf\n",
      "Leipzig\n",
      "Dortmund\n",
      "Essen\n",
      "Bremen\n",
      "Dresden\n",
      "Hannover\n",
      "Nuernberg\n",
      "Duisburg\n",
      "Bochum\n",
      "Wuppertal\n",
      "Bielefeld\n",
      "Bonn\n",
      "Muenster\n",
      "Karlsruhe\n",
      "Mannheim\n",
      "Augsburg\n",
      "Wiesbaden\n",
      "Moenchengladbach\n",
      "Gelsenkirchen\n",
      "Braunschweig\n",
      "Kiel\n",
      "Aachen\n",
      "Chemnitz\n",
      "Halle (Saale)\n",
      "Magdeburg\n",
      "Freiburg im Breisgau\n",
      "Krefeld\n",
      "Luebeck\n",
      "Mainz\n",
      "Erfurt\n",
      "Oberhausen\n",
      "Rostock\n",
      "Kassel\n",
      "Hagen\n",
      "Saarbruecken\n",
      "Hamm\n",
      "Potsdam\n",
      "Ludwigshafen am Rhein\n",
      "Muelheim an der Ruhr\n",
      "Oldenburg\n",
      "Osnabrueck\n",
      "Leverkusen\n",
      "Heidelberg\n",
      "Solingen\n",
      "Darmstadt\n",
      "Herne\n",
      "Neuss\n",
      "Regensburg\n",
      "Paderborn\n",
      "Ingolstadt\n",
      "Offenbach am Main\n",
      "Wuerzburg\n",
      "Fuerth\n",
      "Ulm\n",
      "Heilbronn\n",
      "Pforzheim\n",
      "Wolfsburg\n",
      "Goettingen\n",
      "Bottrop\n",
      "Reutlingen\n",
      "Koblenz\n",
      "Bremerhaven\n",
      "Recklinghausen\n",
      "Bergisch Gladbach\n",
      "Erlangen\n",
      "Jena\n",
      "Remscheid\n",
      "Trier\n",
      "Salzgitter\n",
      "Moers\n",
      "Siegen\n",
      "Hildesheim\n",
      "Cottbus\n",
      "Guetersloh\n"
     ]
    }
   ],
   "source": [
    "gercities_venues = getNearbyVenues(cities=gercities_red['City'],\n",
    "                                   latitudes=gercities_red['Latitude'],\n",
    "                                   longitudes=gercities_red['Longitude'],\n",
    "                                   radius=5000\n",
    "                                  )"
   ]
  },
  {
   "cell_type": "code",
   "execution_count": 12,
   "metadata": {
    "scrolled": false
   },
   "outputs": [
    {
     "name": "stdout",
     "output_type": "stream",
     "text": [
      "City               object\n",
      "City Latitude     float64\n",
      "City Longitude    float64\n",
      "Venue              object\n",
      "Venue Category     object\n",
      "dtype: object\n"
     ]
    },
    {
     "data": {
      "text/html": [
       "<div>\n",
       "<style scoped>\n",
       "    .dataframe tbody tr th:only-of-type {\n",
       "        vertical-align: middle;\n",
       "    }\n",
       "\n",
       "    .dataframe tbody tr th {\n",
       "        vertical-align: top;\n",
       "    }\n",
       "\n",
       "    .dataframe thead th {\n",
       "        text-align: right;\n",
       "    }\n",
       "</style>\n",
       "<table border=\"1\" class=\"dataframe\">\n",
       "  <thead>\n",
       "    <tr style=\"text-align: right;\">\n",
       "      <th></th>\n",
       "      <th>City</th>\n",
       "      <th>City Latitude</th>\n",
       "      <th>City Longitude</th>\n",
       "      <th>Venue</th>\n",
       "      <th>Venue Category</th>\n",
       "    </tr>\n",
       "  </thead>\n",
       "  <tbody>\n",
       "    <tr>\n",
       "      <th>0</th>\n",
       "      <td>Berlin</td>\n",
       "      <td>52.517037</td>\n",
       "      <td>13.38886</td>\n",
       "      <td>Dussmann das KulturKaufhaus</td>\n",
       "      <td>Bookstore</td>\n",
       "    </tr>\n",
       "    <tr>\n",
       "      <th>1</th>\n",
       "      <td>Berlin</td>\n",
       "      <td>52.517037</td>\n",
       "      <td>13.38886</td>\n",
       "      <td>Dussmann English Bookshop</td>\n",
       "      <td>Bookstore</td>\n",
       "    </tr>\n",
       "    <tr>\n",
       "      <th>2</th>\n",
       "      <td>Berlin</td>\n",
       "      <td>52.517037</td>\n",
       "      <td>13.38886</td>\n",
       "      <td>Konzerthaus Berlin</td>\n",
       "      <td>Concert Hall</td>\n",
       "    </tr>\n",
       "    <tr>\n",
       "      <th>3</th>\n",
       "      <td>Berlin</td>\n",
       "      <td>52.517037</td>\n",
       "      <td>13.38886</td>\n",
       "      <td>Gendarmenmarkt</td>\n",
       "      <td>Plaza</td>\n",
       "    </tr>\n",
       "    <tr>\n",
       "      <th>4</th>\n",
       "      <td>Berlin</td>\n",
       "      <td>52.517037</td>\n",
       "      <td>13.38886</td>\n",
       "      <td>Pierre Boulez Saal</td>\n",
       "      <td>Concert Hall</td>\n",
       "    </tr>\n",
       "  </tbody>\n",
       "</table>\n",
       "</div>"
      ],
      "text/plain": [
       "     City  City Latitude  City Longitude                        Venue  \\\n",
       "0  Berlin      52.517037        13.38886  Dussmann das KulturKaufhaus   \n",
       "1  Berlin      52.517037        13.38886    Dussmann English Bookshop   \n",
       "2  Berlin      52.517037        13.38886           Konzerthaus Berlin   \n",
       "3  Berlin      52.517037        13.38886               Gendarmenmarkt   \n",
       "4  Berlin      52.517037        13.38886           Pierre Boulez Saal   \n",
       "\n",
       "  Venue Category  \n",
       "0      Bookstore  \n",
       "1      Bookstore  \n",
       "2   Concert Hall  \n",
       "3          Plaza  \n",
       "4   Concert Hall  "
      ]
     },
     "execution_count": 12,
     "metadata": {},
     "output_type": "execute_result"
    }
   ],
   "source": [
    "print(gercities_venues.dtypes)\n",
    "gercities_venues.head()"
   ]
  },
  {
   "cell_type": "markdown",
   "metadata": {},
   "source": [
    "Creating the onehot encoded and grouped dataframe for later use."
   ]
  },
  {
   "cell_type": "code",
   "execution_count": 13,
   "metadata": {
    "scrolled": true
   },
   "outputs": [
    {
     "data": {
      "text/html": [
       "<div>\n",
       "<style scoped>\n",
       "    .dataframe tbody tr th:only-of-type {\n",
       "        vertical-align: middle;\n",
       "    }\n",
       "\n",
       "    .dataframe tbody tr th {\n",
       "        vertical-align: top;\n",
       "    }\n",
       "\n",
       "    .dataframe thead th {\n",
       "        text-align: right;\n",
       "    }\n",
       "</style>\n",
       "<table border=\"1\" class=\"dataframe\">\n",
       "  <thead>\n",
       "    <tr style=\"text-align: right;\">\n",
       "      <th></th>\n",
       "      <th>City</th>\n",
       "      <th>Advertising Agency</th>\n",
       "      <th>Afghan Restaurant</th>\n",
       "      <th>African Restaurant</th>\n",
       "      <th>Airport</th>\n",
       "      <th>American Restaurant</th>\n",
       "      <th>Amphitheater</th>\n",
       "      <th>Apple Wine Pub</th>\n",
       "      <th>Aquarium</th>\n",
       "      <th>Arcade</th>\n",
       "      <th>...</th>\n",
       "      <th>Water Park</th>\n",
       "      <th>Waterfall</th>\n",
       "      <th>Waterfront</th>\n",
       "      <th>Whisky Bar</th>\n",
       "      <th>Wine Bar</th>\n",
       "      <th>Wine Shop</th>\n",
       "      <th>Winery</th>\n",
       "      <th>Yoga Studio</th>\n",
       "      <th>Zoo</th>\n",
       "      <th>Zoo Exhibit</th>\n",
       "    </tr>\n",
       "  </thead>\n",
       "  <tbody>\n",
       "    <tr>\n",
       "      <th>0</th>\n",
       "      <td>Aachen</td>\n",
       "      <td>0.0</td>\n",
       "      <td>0.0</td>\n",
       "      <td>0.00</td>\n",
       "      <td>0.0</td>\n",
       "      <td>0.000000</td>\n",
       "      <td>0.00</td>\n",
       "      <td>0.0</td>\n",
       "      <td>0.0</td>\n",
       "      <td>0.0</td>\n",
       "      <td>...</td>\n",
       "      <td>0.000000</td>\n",
       "      <td>0.00</td>\n",
       "      <td>0.00</td>\n",
       "      <td>0.0</td>\n",
       "      <td>0.01</td>\n",
       "      <td>0.0</td>\n",
       "      <td>0.0</td>\n",
       "      <td>0.00</td>\n",
       "      <td>0.010000</td>\n",
       "      <td>0.0</td>\n",
       "    </tr>\n",
       "    <tr>\n",
       "      <th>1</th>\n",
       "      <td>Augsburg</td>\n",
       "      <td>0.0</td>\n",
       "      <td>0.0</td>\n",
       "      <td>0.00</td>\n",
       "      <td>0.0</td>\n",
       "      <td>0.000000</td>\n",
       "      <td>0.01</td>\n",
       "      <td>0.0</td>\n",
       "      <td>0.0</td>\n",
       "      <td>0.0</td>\n",
       "      <td>...</td>\n",
       "      <td>0.000000</td>\n",
       "      <td>0.00</td>\n",
       "      <td>0.00</td>\n",
       "      <td>0.0</td>\n",
       "      <td>0.00</td>\n",
       "      <td>0.0</td>\n",
       "      <td>0.0</td>\n",
       "      <td>0.00</td>\n",
       "      <td>0.010000</td>\n",
       "      <td>0.0</td>\n",
       "    </tr>\n",
       "    <tr>\n",
       "      <th>2</th>\n",
       "      <td>Bergisch Gladbach</td>\n",
       "      <td>0.0</td>\n",
       "      <td>0.0</td>\n",
       "      <td>0.00</td>\n",
       "      <td>0.0</td>\n",
       "      <td>0.025316</td>\n",
       "      <td>0.00</td>\n",
       "      <td>0.0</td>\n",
       "      <td>0.0</td>\n",
       "      <td>0.0</td>\n",
       "      <td>...</td>\n",
       "      <td>0.000000</td>\n",
       "      <td>0.00</td>\n",
       "      <td>0.00</td>\n",
       "      <td>0.0</td>\n",
       "      <td>0.00</td>\n",
       "      <td>0.0</td>\n",
       "      <td>0.0</td>\n",
       "      <td>0.00</td>\n",
       "      <td>0.000000</td>\n",
       "      <td>0.0</td>\n",
       "    </tr>\n",
       "    <tr>\n",
       "      <th>3</th>\n",
       "      <td>Berlin</td>\n",
       "      <td>0.0</td>\n",
       "      <td>0.0</td>\n",
       "      <td>0.01</td>\n",
       "      <td>0.0</td>\n",
       "      <td>0.000000</td>\n",
       "      <td>0.00</td>\n",
       "      <td>0.0</td>\n",
       "      <td>0.0</td>\n",
       "      <td>0.0</td>\n",
       "      <td>...</td>\n",
       "      <td>0.000000</td>\n",
       "      <td>0.01</td>\n",
       "      <td>0.02</td>\n",
       "      <td>0.0</td>\n",
       "      <td>0.03</td>\n",
       "      <td>0.0</td>\n",
       "      <td>0.0</td>\n",
       "      <td>0.01</td>\n",
       "      <td>0.000000</td>\n",
       "      <td>0.0</td>\n",
       "    </tr>\n",
       "    <tr>\n",
       "      <th>4</th>\n",
       "      <td>Bielefeld</td>\n",
       "      <td>0.0</td>\n",
       "      <td>0.0</td>\n",
       "      <td>0.00</td>\n",
       "      <td>0.0</td>\n",
       "      <td>0.000000</td>\n",
       "      <td>0.00</td>\n",
       "      <td>0.0</td>\n",
       "      <td>0.0</td>\n",
       "      <td>0.0</td>\n",
       "      <td>...</td>\n",
       "      <td>0.014085</td>\n",
       "      <td>0.00</td>\n",
       "      <td>0.00</td>\n",
       "      <td>0.0</td>\n",
       "      <td>0.00</td>\n",
       "      <td>0.0</td>\n",
       "      <td>0.0</td>\n",
       "      <td>0.00</td>\n",
       "      <td>0.014085</td>\n",
       "      <td>0.0</td>\n",
       "    </tr>\n",
       "  </tbody>\n",
       "</table>\n",
       "<p>5 rows × 360 columns</p>\n",
       "</div>"
      ],
      "text/plain": [
       "                City  Advertising Agency  Afghan Restaurant  \\\n",
       "0             Aachen                 0.0                0.0   \n",
       "1           Augsburg                 0.0                0.0   \n",
       "2  Bergisch Gladbach                 0.0                0.0   \n",
       "3             Berlin                 0.0                0.0   \n",
       "4          Bielefeld                 0.0                0.0   \n",
       "\n",
       "   African Restaurant  Airport  American Restaurant  Amphitheater  \\\n",
       "0                0.00      0.0             0.000000          0.00   \n",
       "1                0.00      0.0             0.000000          0.01   \n",
       "2                0.00      0.0             0.025316          0.00   \n",
       "3                0.01      0.0             0.000000          0.00   \n",
       "4                0.00      0.0             0.000000          0.00   \n",
       "\n",
       "   Apple Wine Pub  Aquarium  Arcade  ...  Water Park  Waterfall  Waterfront  \\\n",
       "0             0.0       0.0     0.0  ...    0.000000       0.00        0.00   \n",
       "1             0.0       0.0     0.0  ...    0.000000       0.00        0.00   \n",
       "2             0.0       0.0     0.0  ...    0.000000       0.00        0.00   \n",
       "3             0.0       0.0     0.0  ...    0.000000       0.01        0.02   \n",
       "4             0.0       0.0     0.0  ...    0.014085       0.00        0.00   \n",
       "\n",
       "   Whisky Bar  Wine Bar  Wine Shop  Winery  Yoga Studio       Zoo  Zoo Exhibit  \n",
       "0         0.0      0.01        0.0     0.0         0.00  0.010000          0.0  \n",
       "1         0.0      0.00        0.0     0.0         0.00  0.010000          0.0  \n",
       "2         0.0      0.00        0.0     0.0         0.00  0.000000          0.0  \n",
       "3         0.0      0.03        0.0     0.0         0.01  0.000000          0.0  \n",
       "4         0.0      0.00        0.0     0.0         0.00  0.014085          0.0  \n",
       "\n",
       "[5 rows x 360 columns]"
      ]
     },
     "execution_count": 13,
     "metadata": {},
     "output_type": "execute_result"
    }
   ],
   "source": [
    "gercities_venues_onehot = pd.get_dummies(gercities_venues[['Venue Category']], prefix=\"\", prefix_sep=\"\")\n",
    "gercities_venues_onehot['City'] = gercities_venues['City'] \n",
    "fixed_columns = [gercities_venues_onehot.columns[-1]] + list(gercities_venues_onehot.columns[:-1])\n",
    "gercities_venues_onehot = gercities_venues_onehot[fixed_columns]\n",
    "gercities_venues_grouped = gercities_venues_onehot.groupby('City').mean().reset_index()\n",
    "gercities_venues_grouped.head()"
   ]
  },
  {
   "cell_type": "markdown",
   "metadata": {},
   "source": [
    "**Grouping the original Foursquare dataframe by city to see how many venues were found per city.**\n",
    "\n",
    "**Adding the city location, population, and a new metric: venue count per population.**"
   ]
  },
  {
   "cell_type": "code",
   "execution_count": 14,
   "metadata": {
    "scrolled": true
   },
   "outputs": [
    {
     "name": "stdout",
     "output_type": "stream",
     "text": [
      "City                      object\n",
      "Venues                     int64\n",
      "Population                 int64\n",
      "Latitude                 float64\n",
      "Longitude                float64\n",
      "Venues per Population    float64\n",
      "dtype: object\n"
     ]
    },
    {
     "data": {
      "text/html": [
       "<div>\n",
       "<style scoped>\n",
       "    .dataframe tbody tr th:only-of-type {\n",
       "        vertical-align: middle;\n",
       "    }\n",
       "\n",
       "    .dataframe tbody tr th {\n",
       "        vertical-align: top;\n",
       "    }\n",
       "\n",
       "    .dataframe thead th {\n",
       "        text-align: right;\n",
       "    }\n",
       "</style>\n",
       "<table border=\"1\" class=\"dataframe\">\n",
       "  <thead>\n",
       "    <tr style=\"text-align: right;\">\n",
       "      <th></th>\n",
       "      <th>City</th>\n",
       "      <th>Venues</th>\n",
       "      <th>Population</th>\n",
       "      <th>Latitude</th>\n",
       "      <th>Longitude</th>\n",
       "      <th>Venues per Population</th>\n",
       "    </tr>\n",
       "  </thead>\n",
       "  <tbody>\n",
       "    <tr>\n",
       "      <th>0</th>\n",
       "      <td>Aachen</td>\n",
       "      <td>100</td>\n",
       "      <td>247380</td>\n",
       "      <td>50.776351</td>\n",
       "      <td>6.083862</td>\n",
       "      <td>0.000404</td>\n",
       "    </tr>\n",
       "    <tr>\n",
       "      <th>1</th>\n",
       "      <td>Augsburg</td>\n",
       "      <td>100</td>\n",
       "      <td>295135</td>\n",
       "      <td>48.366804</td>\n",
       "      <td>10.898697</td>\n",
       "      <td>0.000339</td>\n",
       "    </tr>\n",
       "    <tr>\n",
       "      <th>2</th>\n",
       "      <td>Bergisch Gladbach</td>\n",
       "      <td>79</td>\n",
       "      <td>111966</td>\n",
       "      <td>50.992930</td>\n",
       "      <td>7.127738</td>\n",
       "      <td>0.000706</td>\n",
       "    </tr>\n",
       "    <tr>\n",
       "      <th>3</th>\n",
       "      <td>Berlin</td>\n",
       "      <td>100</td>\n",
       "      <td>3644826</td>\n",
       "      <td>52.517037</td>\n",
       "      <td>13.388860</td>\n",
       "      <td>0.000027</td>\n",
       "    </tr>\n",
       "    <tr>\n",
       "      <th>4</th>\n",
       "      <td>Bielefeld</td>\n",
       "      <td>71</td>\n",
       "      <td>333786</td>\n",
       "      <td>52.019101</td>\n",
       "      <td>8.531007</td>\n",
       "      <td>0.000213</td>\n",
       "    </tr>\n",
       "  </tbody>\n",
       "</table>\n",
       "</div>"
      ],
      "text/plain": [
       "                City  Venues  Population   Latitude  Longitude  \\\n",
       "0             Aachen     100      247380  50.776351   6.083862   \n",
       "1           Augsburg     100      295135  48.366804  10.898697   \n",
       "2  Bergisch Gladbach      79      111966  50.992930   7.127738   \n",
       "3             Berlin     100     3644826  52.517037  13.388860   \n",
       "4          Bielefeld      71      333786  52.019101   8.531007   \n",
       "\n",
       "   Venues per Population  \n",
       "0               0.000404  \n",
       "1               0.000339  \n",
       "2               0.000706  \n",
       "3               0.000027  \n",
       "4               0.000213  "
      ]
     },
     "execution_count": 14,
     "metadata": {},
     "output_type": "execute_result"
    }
   ],
   "source": [
    "gercities_venues_count = gercities_venues.groupby(['City']).count()\n",
    "\n",
    "gercities_venues_count.reset_index(inplace=True)\n",
    "\n",
    "gercities_venues_count.drop(columns=['Venue Category', 'City Latitude', 'City Longitude'], inplace=True)\n",
    "\n",
    "gercities_venues_count.rename(columns={'Venue': 'Venues'}, inplace=True)\n",
    "\n",
    "gercities_venues_count = pd.merge(gercities_venues_count,\n",
    "                                  gercities_red,\n",
    "                                  on='City',\n",
    "                                  how='left')\n",
    "\n",
    "gercities_venues_count['Venues per Population'] = gercities_venues_count.apply(lambda row: row.Venues/row.Population, axis = 1)\n",
    "gercities_venues_count = gercities_venues_count.round({'Venues per Population': 6})\n",
    "\n",
    "print(gercities_venues_count.dtypes)\n",
    "gercities_venues_count.head()"
   ]
  },
  {
   "cell_type": "code",
   "execution_count": 15,
   "metadata": {
    "scrolled": true
   },
   "outputs": [
    {
     "data": {
      "text/plain": [
       "<matplotlib.axes._subplots.AxesSubplot at 0x7f91f5de7690>"
      ]
     },
     "execution_count": 15,
     "metadata": {},
     "output_type": "execute_result"
    },
    {
     "data": {
      "image/png": "[encoded data removed]",
      "text/plain": [
       "<Figure size 432x288 with 1 Axes>"
      ]
     },
     "metadata": {
      "needs_background": "light"
     },
     "output_type": "display_data"
    }
   ],
   "source": [
    "gercities_venues_count.plot.scatter(x='Population', y='Venues')"
   ]
  },
  {
   "cell_type": "markdown",
   "metadata": {},
   "source": [
    "Of course, bigger cities reach the maximum retrievable count of 100 venues easily.\n",
    "\n",
    "But one can see, that there is quite a range in the venue count for the smaller cities of population sizes below 500k.\n",
    "\n",
    "To make this range more distinctable one can plot the population on a logarithmic axis, limited to a population of 500k."
   ]
  },
  {
   "cell_type": "code",
   "execution_count": 16,
   "metadata": {
    "scrolled": false
   },
   "outputs": [
    {
     "data": {
      "image/png": "[encoded data removed]",
      "text/plain": [
       "<Figure size 1440x360 with 1 Axes>"
      ]
     },
     "metadata": {
      "needs_background": "light"
     },
     "output_type": "display_data"
    }
   ],
   "source": [
    "x_data = gercities_venues_count['Population']\n",
    "y_data = gercities_venues_count['Venues']\n",
    "\n",
    "fig = plt.figure(figsize=(20,5))\n",
    "ax = plt.gca(xscale='log', xticks=np.arange(100000,500000,50000), xlim=(100000,500000))\n",
    "ax.plot(x_data, y_data, 'o', c='blue')\n",
    "ax.set_xlabel = 'Population'\n",
    "ax.set_ylabel = 'Venue count'"
   ]
  },
  {
   "cell_type": "markdown",
   "metadata": {},
   "source": [
    "**Lets look at the cities that have a venue count below 100.**"
   ]
  },
  {
   "cell_type": "code",
   "execution_count": 17,
   "metadata": {},
   "outputs": [
    {
     "name": "stdout",
     "output_type": "stream",
     "text": [
      "(36, 6)\n"
     ]
    },
    {
     "data": {
      "text/html": [
       "<div>\n",
       "<style scoped>\n",
       "    .dataframe tbody tr th:only-of-type {\n",
       "        vertical-align: middle;\n",
       "    }\n",
       "\n",
       "    .dataframe tbody tr th {\n",
       "        vertical-align: top;\n",
       "    }\n",
       "\n",
       "    .dataframe thead th {\n",
       "        text-align: right;\n",
       "    }\n",
       "</style>\n",
       "<table border=\"1\" class=\"dataframe\">\n",
       "  <thead>\n",
       "    <tr style=\"text-align: right;\">\n",
       "      <th></th>\n",
       "      <th>City</th>\n",
       "      <th>Venues</th>\n",
       "      <th>Population</th>\n",
       "      <th>Latitude</th>\n",
       "      <th>Longitude</th>\n",
       "      <th>Venues per Population</th>\n",
       "    </tr>\n",
       "  </thead>\n",
       "  <tbody>\n",
       "    <tr>\n",
       "      <th>0</th>\n",
       "      <td>Bergisch Gladbach</td>\n",
       "      <td>79</td>\n",
       "      <td>111966</td>\n",
       "      <td>50.992930</td>\n",
       "      <td>7.127738</td>\n",
       "      <td>0.000706</td>\n",
       "    </tr>\n",
       "    <tr>\n",
       "      <th>1</th>\n",
       "      <td>Bielefeld</td>\n",
       "      <td>71</td>\n",
       "      <td>333786</td>\n",
       "      <td>52.019101</td>\n",
       "      <td>8.531007</td>\n",
       "      <td>0.000213</td>\n",
       "    </tr>\n",
       "    <tr>\n",
       "      <th>2</th>\n",
       "      <td>Bottrop</td>\n",
       "      <td>85</td>\n",
       "      <td>117383</td>\n",
       "      <td>51.521581</td>\n",
       "      <td>6.929204</td>\n",
       "      <td>0.000724</td>\n",
       "    </tr>\n",
       "    <tr>\n",
       "      <th>3</th>\n",
       "      <td>Bremerhaven</td>\n",
       "      <td>47</td>\n",
       "      <td>113634</td>\n",
       "      <td>53.552226</td>\n",
       "      <td>8.586551</td>\n",
       "      <td>0.000414</td>\n",
       "    </tr>\n",
       "    <tr>\n",
       "      <th>4</th>\n",
       "      <td>Chemnitz</td>\n",
       "      <td>55</td>\n",
       "      <td>247237</td>\n",
       "      <td>50.832261</td>\n",
       "      <td>12.925298</td>\n",
       "      <td>0.000222</td>\n",
       "    </tr>\n",
       "  </tbody>\n",
       "</table>\n",
       "</div>"
      ],
      "text/plain": [
       "                City  Venues  Population   Latitude  Longitude  \\\n",
       "0  Bergisch Gladbach      79      111966  50.992930   7.127738   \n",
       "1          Bielefeld      71      333786  52.019101   8.531007   \n",
       "2            Bottrop      85      117383  51.521581   6.929204   \n",
       "3        Bremerhaven      47      113634  53.552226   8.586551   \n",
       "4           Chemnitz      55      247237  50.832261  12.925298   \n",
       "\n",
       "   Venues per Population  \n",
       "0               0.000706  \n",
       "1               0.000213  \n",
       "2               0.000724  \n",
       "3               0.000414  \n",
       "4               0.000222  "
      ]
     },
     "execution_count": 17,
     "metadata": {},
     "output_type": "execute_result"
    }
   ],
   "source": [
    "gercities_venues_count_low = gercities_venues_count.loc[gercities_venues_count['Venues']<100]\n",
    "gercities_venues_count_low.reset_index(drop=True, inplace=True)\n",
    "\n",
    "print(gercities_venues_count_low.shape)\n",
    "gercities_venues_count_low.head()"
   ]
  },
  {
   "cell_type": "code",
   "execution_count": 18,
   "metadata": {},
   "outputs": [
    {
     "data": {
      "text/plain": [
       "[<matplotlib.lines.Line2D at 0x7f91f5c57c10>]"
      ]
     },
     "execution_count": 18,
     "metadata": {},
     "output_type": "execute_result"
    },
    {
     "data": {
      "image/png": "[encoded data removed]",
      "text/plain": [
       "<Figure size 1440x360 with 1 Axes>"
      ]
     },
     "metadata": {
      "needs_background": "light"
     },
     "output_type": "display_data"
    }
   ],
   "source": [
    "x_data = gercities_venues_count_low['Population']\n",
    "y_data = gercities_venues_count_low['Venues']\n",
    "\n",
    "fig = plt.figure(figsize=(20,5))\n",
    "ax = plt.gca(xscale='log', xticks=np.arange(100000,500000,50000), xlim=(100000,500000))\n",
    "ax.plot(x_data, y_data, 'o', c='blue')"
   ]
  },
  {
   "cell_type": "markdown",
   "metadata": {},
   "source": [
    "Let's show them on the map."
   ]
  },
  {
   "cell_type": "code",
   "execution_count": 19,
   "metadata": {},
   "outputs": [
    {
     "data": {
      "text/html": [
       "<div style=\"width:100%;\"><div style=\"position:relative;width:100%;height:0;padding-bottom:60%;\"><span style=\"color:#565656\">Make this Notebook Trusted to load map: File -> Trust Notebook</span><iframe src=\"about:blank\" style=\"position:absolute;width:100%;height:100%;left:0;top:0;border:none !important;\" data-html=PCFET0NUWVBFIGh0bWw+CjxoZWFkPiAgICAKICAgIDxtZXRhIGh0dHAtZXF1aXY9ImNvbnRlbnQtdHlwZSIgY29udGVudD0idGV4dC9odG1sOyBjaGFyc2V0PVVURi04IiAvPgogICAgCiAgICAgICAgPHNjcmlwdD4KICAgICAgICAgICAgTF9OT19UT1VDSCA9IGZhbHNlOwogICAgICAgICAgICBMX0RJU0FCTEVfM0QgPSBmYWxzZTsKICAgICAgICA8L3NjcmlwdD4KICAgIAogICAgPHNjcmlwdCBzcmM9Imh0dHBzOi8vY2RuLmpzZGVsaXZyLm5ldC9ucG0vbGVhZmxldEAxLjYuMC9kaXN0L2xlYWZsZXQuanMiPjwvc2NyaXB0PgogICAgPHNjcmlwdCBzcmM9Imh0dHBzOi8vY29kZS5qcXVlcnkuY29tL2pxdWVyeS0xLjEyLjQubWluLmpzIj48L3NjcmlwdD4KICAgIDxzY3JpcHQgc3JjPSJodHRwczovL21heGNkbi5ib290c3RyYXBjZG4uY29tL2Jvb3RzdHJhcC8zLjIuMC9qcy9ib290c3RyYXAubWluLmpzIj48L3NjcmlwdD4KICAgIDxzY3JpcHQgc3JjPSJodHRwczovL2NkbmpzLmNsb3VkZmxhcmUuY29tL2FqYXgvbGlicy9MZWFmbGV0LmF3ZXNvbWUtbWFya2Vycy8yLjAuMi9sZWFmbGV0LmF3ZXNvbWUtbWFya2Vycy5qcyI+PC9zY3JpcHQ+CiAgICA8bGluayByZWw9InN0eWxlc2hlZXQiIGhyZWY9Imh0dHBzOi8vY2RuLmpzZGVsaXZyLm5ldC9ucG0vbGVhZmxldEAxLjYuMC9kaXN0L2xlYWZsZXQuY3NzIi8+CiAgICA8bGluayByZWw9InN0eWxlc2hlZXQiIGhyZWY9Imh0dHBzOi8vbWF4Y2RuLmJvb3RzdHJhcGNkbi5jb20vYm9vdHN0cmFwLzMuMi4wL2Nzcy9ib290c3RyYXAubWluLmNzcyIvPgogICAgPGxpbmsgcmVsPSJzdHlsZXNoZWV0IiBocmVmPSJodHRwczovL21heGNkbi5ib290c3RyYXBjZG4uY29tL2Jvb3RzdHJhcC8zLjIuMC9jc3MvYm9vdHN0cmFwLXRoZW1lLm1pbi5jc3MiLz4KICAgIDxsaW5rIHJlbD0ic3R5bGVzaGVldCIgaHJlZj0iaHR0cHM6Ly9tYXhjZG4uYm9vdHN0cmFwY2RuLmNvbS9mb250LWF3ZXNvbWUvNC42LjMvY3NzL2ZvbnQtYXdlc29tZS5taW4uY3NzIi8+CiAgICA8bGluayByZWw9InN0eWxlc2hlZXQiIGhyZWY9Imh0dHBzOi8vY2RuanMuY2xvdWRmbGFyZS5jb20vYWpheC9saWJzL0xlYWZsZXQuYXdlc29tZS1tYXJrZXJzLzIuMC4yL2xlYWZsZXQuYXdlc29tZS1tYXJrZXJzLmNzcyIvPgogICAgPGxpbmsgcmVsPSJzdHlsZXNoZWV0IiBocmVmPSJodHRwczovL3Jhd2Nkbi5naXRoYWNrLmNvbS9weXRob24tdmlzdWFsaXphdGlvbi9mb2xpdW0vbWFzdGVyL2ZvbGl1bS90ZW1wbGF0ZXMvbGVhZmxldC5hd2Vzb21lLnJvdGF0ZS5jc3MiLz4KICAgIDxzdHlsZT5odG1sLCBib2R5IHt3aWR0aDogMTAwJTtoZWlnaHQ6IDEwMCU7bWFyZ2luOiAwO3BhZGRpbmc6IDA7fTwvc3R5bGU+CiAgICA8c3R5bGU+I21hcCB7cG9zaXRpb246YWJzb2x1dGU7dG9wOjA7Ym90dG9tOjA7cmlnaHQ6MDtsZWZ0OjA7fTwvc3R5bGU+CiAgICAKICAgICAgICAgICAgPG1ldGEgbmFtZT0idmlld3BvcnQiIGNvbnRlbnQ9IndpZHRoPWRldmljZS13aWR0aCwKICAgICAgICAgICAgICAgIGluaXRpYWwtc2NhbGU9MS4wLCBtYXhpbXVtLXNjYWxlPTEuMCwgdXNlci1zY2FsYWJsZT1ubyIgLz4KICAgICAgICAgICAgPHN0eWxlPgogICAgICAgICAgICAgICAgI21hcF9lMDIxNzVjYjQyYjQ0YmQxODVkNzZhY2NiYzg4ZTE2NyB7CiAgICAgICAgICAgICAgICAgICAgcG9zaXRpb246IHJlbGF0aXZlOwogICAgICAgICAgICAgICAgICAgIHdpZHRoOiAxMDAuMCU7CiAgICAgICAgICAgICAgICAgICAgaGVpZ2h0OiAxMDAuMCU7CiAgICAgICAgICAgICAgICAgICAgbGVmdDogMC4wJTsKICAgICAgICAgICAgICAgICAgICB0b3A6IDAuMCU7CiAgICAgICAgICAgICAgICB9CiAgICAgICAgICAgIDwvc3R5bGU+CiAgICAgICAgCjwvaGVhZD4KPGJvZHk+ICAgIAogICAgCiAgICAgICAgICAgIDxkaXYgY2xhc3M9ImZvbGl1bS1tYXAiIGlkPSJtYXBfZTAyMTc1Y2I0MmI0NGJkMTg1ZDc2YWNjYmM4OGUxNjciID48L2Rpdj4KICAgICAgICAKPC9ib2R5Pgo8c2NyaXB0PiAgICAKICAgIAogICAgICAgICAgICB2YXIgbWFwX2UwMjE3NWNiNDJiNDRiZDE4NWQ3NmFjY2JjODhlMTY3ID0gTC5tYXAoCiAgICAgICAgICAgICAgICAibWFwX2UwMjE3NWNiNDJiNDRiZDE4NWQ3NmFjY2JjODhlMTY3IiwKICAgICAgICAgICAgICAgIHsKICAgICAgICAgICAgICAgICAgICBjZW50ZXI6IFs1MS4zNTEsIDEwLjQ1NF0sCiAgICAgICAgICAgICAgICAgICAgY3JzOiBMLkNSUy5FUFNHMzg1NywKICAgICAgICAgICAgICAgICAgICB6b29tOiA1LjUsCiAgICAgICAgICAgICAgICAgICAgem9vbUNvbnRyb2w6IHRydWUsCiAgICAgICAgICAgICAgICAgICAgcHJlZmVyQ2FudmFzOiBmYWxzZSwKICAgICAgICAgICAgICAgIH0KICAgICAgICAgICAgKTsKCiAgICAgICAgICAgIAoKICAgICAgICAKICAgIAogICAgICAgICAgICB2YXIgdGlsZV9sYXllcl9hZTU3ZDBkNjU3NzY0ZGRmYTBmNWE2YWVmMTY2NzZiZCA9IEwudGlsZUxheWVyKAogICAgICAgICAgICAgICAgImh0dHBzOi8ve3N9LnRpbGUub3BlbnN0cmVldG1hcC5vcmcve3p9L3t4fS97eX0ucG5nIiwKICAgICAgICAgICAgICAgIHsiYXR0cmlidXRpb24iOiAiRGF0YSBieSBcdTAwMjZjb3B5OyBcdTAwM2NhIGhyZWY9XCJodHRwOi8vb3BlbnN0cmVldG1hcC5vcmdcIlx1MDAzZU9wZW5TdHJlZXRNYXBcdTAwM2MvYVx1MDAzZSwgdW5kZXIgXHUwMDNjYSBocmVmPVwiaHR0cDovL3d3dy5vcGVuc3RyZWV0bWFwLm9yZy9jb3B5cmlnaHRcIlx1MDAzZU9EYkxcdTAwM2MvYVx1MDAzZS4iLCAiZGV0ZWN0UmV0aW5hIjogZmFsc2UsICJtYXhOYXRpdmVab29tIjogMTgsICJtYXhab29tIjogMTgsICJtaW5ab29tIjogMCwgIm5vV3JhcCI6IGZhbHNlLCAib3BhY2l0eSI6IDEsICJzdWJkb21haW5zIjogImFiYyIsICJ0bXMiOiBmYWxzZX0KICAgICAgICAgICAgKS5hZGRUbyhtYXBfZTAyMTc1Y2I0MmI0NGJkMTg1ZDc2YWNjYmM4OGUxNjcpOwogICAgICAgIAogICAgCiAgICAgICAgICAgIHZhciBjaXJjbGVfbWFya2VyXzIxMzkzMTAxNjc1MDRkMDQ4Y2MzNzZmMDA2MTJhNmE4ID0gTC5jaXJjbGVNYXJrZXIoCiAgICAgICAgICAgICAgICBbNTAuOTkyOTMwMywgNy4xMjc3Mzc5XSwKICAgICAgICAgICAgICAgIHsiYnViYmxpbmdNb3VzZUV2ZW50cyI6IHRydWUsICJjb2xvciI6ICJibHVlIiwgImRhc2hBcnJheSI6IG51bGwsICJkYXNoT2Zmc2V0IjogbnVsbCwgImZpbGwiOiB0cnVlLCAiZmlsbENvbG9yIjogIiMzMTg2Y2MiLCAiZmlsbE9wYWNpdHkiOiAwLjcsICJmaWxsUnVsZSI6ICJldmVub2RkIiwgImxpbmVDYXAiOiAicm91bmQiLCAibGluZUpvaW4iOiAicm91bmQiLCAib3BhY2l0eSI6IDEuMCwgInJhZGl1cyI6IDUsICJzdHJva2UiOiB0cnVlLCAid2VpZ2h0IjogM30KICAgICAgICAgICAgKS5hZGRUbyhtYXBfZTAyMTc1Y2I0MmI0NGJkMTg1ZDc2YWNjYmM4OGUxNjcpOwogICAgICAgIAogICAgCiAgICAgICAgdmFyIHBvcHVwXzQ3N2NmNGEwMjcyNTRjZjNiMTAyYjEwNjE3MmVhYjFiID0gTC5wb3B1cCh7Im1heFdpZHRoIjogIjEwMCUifSk7CgogICAgICAgIAogICAgICAgICAgICB2YXIgaHRtbF9kODMzMTdjNzExOWM0ZTM3YWUyNDk1YWJlNzhlYWU2YSA9ICQoYDxkaXYgaWQ9Imh0bWxfZDgzMzE3YzcxMTljNGUzN2FlMjQ5NWFiZTc4ZWFlNmEiIHN0eWxlPSJ3aWR0aDogMTAwLjAlOyBoZWlnaHQ6IDEwMC4wJTsiPkJlcmdpc2NoIEdsYWRiYWNoIChQb3B1bGF0aW9uOiAxMTE5NjYsIFZlbnVlcyBwZXIgUG9wdWxhdGlvbjogMC4wMDA3MDYpPC9kaXY+YClbMF07CiAgICAgICAgICAgIHBvcHVwXzQ3N2NmNGEwMjcyNTRjZjNiMTAyYjEwNjE3MmVhYjFiLnNldENvbnRlbnQoaHRtbF9kODMzMTdjNzExOWM0ZTM3YWUyNDk1YWJlNzhlYWU2YSk7CiAgICAgICAgCgogICAgICAgIGNpcmNsZV9tYXJrZXJfMjEzOTMxMDE2NzUwNGQwNDhjYzM3NmYwMDYxMmE2YTguYmluZFBvcHVwKHBvcHVwXzQ3N2NmNGEwMjcyNTRjZjNiMTAyYjEwNjE3MmVhYjFiKQogICAgICAgIDsKCiAgICAgICAgCiAgICAKICAgIAogICAgICAgICAgICB2YXIgY2lyY2xlX21hcmtlcl9hYTZmNzQ5MDIyYTk0MWFkYTFiZWE5NzIyZjZjZDRhNSA9IEwuY2lyY2xlTWFya2VyKAogICAgICAgICAgICAgICAgWzUyLjAxOTEwMDUsIDguNTMxMDA3XSwKICAgICAgICAgICAgICAgIHsiYnViYmxpbmdNb3VzZUV2ZW50cyI6IHRydWUsICJjb2xvciI6ICJibHVlIiwgImRhc2hBcnJheSI6IG51bGwsICJkYXNoT2Zmc2V0IjogbnVsbCwgImZpbGwiOiB0cnVlLCAiZmlsbENvbG9yIjogIiMzMTg2Y2MiLCAiZmlsbE9wYWNpdHkiOiAwLjcsICJmaWxsUnVsZSI6ICJldmVub2RkIiwgImxpbmVDYXAiOiAicm91bmQiLCAibGluZUpvaW4iOiAicm91bmQiLCAib3BhY2l0eSI6IDEuMCwgInJhZGl1cyI6IDUsICJzdHJva2UiOiB0cnVlLCAid2VpZ2h0IjogM30KICAgICAgICAgICAgKS5hZGRUbyhtYXBfZTAyMTc1Y2I0MmI0NGJkMTg1ZDc2YWNjYmM4OGUxNjcpOwogICAgICAgIAogICAgCiAgICAgICAgdmFyIHBvcHVwX2I3MTI3MGUxZjc5MjQ2ZTc5YmY3ZWFlYTczNTZiY2ExID0gTC5wb3B1cCh7Im1heFdpZHRoIjogIjEwMCUifSk7CgogICAgICAgIAogICAgICAgICAgICB2YXIgaHRtbF80MmJiOWI5MjRiNWU0ZmVkOThhYThiZmI1MjFlZDI1OCA9ICQoYDxkaXYgaWQ9Imh0bWxfNDJiYjliOTI0YjVlNGZlZDk4YWE4YmZiNTIxZWQyNTgiIHN0eWxlPSJ3aWR0aDogMTAwLjAlOyBoZWlnaHQ6IDEwMC4wJTsiPkJpZWxlZmVsZCAoUG9wdWxhdGlvbjogMzMzNzg2LCBWZW51ZXMgcGVyIFBvcHVsYXRpb246IDAuMDAwMjEzKTwvZGl2PmApWzBdOwogICAgICAgICAgICBwb3B1cF9iNzEyNzBlMWY3OTI0NmU3OWJmN2VhZWE3MzU2YmNhMS5zZXRDb250ZW50KGh0bWxfNDJiYjliOTI0YjVlNGZlZDk4YWE4YmZiNTIxZWQyNTgpOwogICAgICAgIAoKICAgICAgICBjaXJjbGVfbWFya2VyX2FhNmY3NDkwMjJhOTQxYWRhMWJlYTk3MjJmNmNkNGE1LmJpbmRQb3B1cChwb3B1cF9iNzEyNzBlMWY3OTI0NmU3OWJmN2VhZWE3MzU2YmNhMSkKICAgICAgICA7CgogICAgICAgIAogICAgCiAgICAKICAgICAgICAgICAgdmFyIGNpcmNsZV9tYXJrZXJfY2YxY2ZlNjc4ODg3NGZhODhkZWYwOTU2Mzc0ODNjMzIgPSBMLmNpcmNsZU1hcmtlcigKICAgICAgICAgICAgICAgIFs1MS41MjE1ODEsIDYuOTI5MjA0XSwKICAgICAgICAgICAgICAgIHsiYnViYmxpbmdNb3VzZUV2ZW50cyI6IHRydWUsICJjb2xvciI6ICJibHVlIiwgImRhc2hBcnJheSI6IG51bGwsICJkYXNoT2Zmc2V0IjogbnVsbCwgImZpbGwiOiB0cnVlLCAiZmlsbENvbG9yIjogIiMzMTg2Y2MiLCAiZmlsbE9wYWNpdHkiOiAwLjcsICJmaWxsUnVsZSI6ICJldmVub2RkIiwgImxpbmVDYXAiOiAicm91bmQiLCAibGluZUpvaW4iOiAicm91bmQiLCAib3BhY2l0eSI6IDEuMCwgInJhZGl1cyI6IDUsICJzdHJva2UiOiB0cnVlLCAid2VpZ2h0IjogM30KICAgICAgICAgICAgKS5hZGRUbyhtYXBfZTAyMTc1Y2I0MmI0NGJkMTg1ZDc2YWNjYmM4OGUxNjcpOwogICAgICAgIAogICAgCiAgICAgICAgdmFyIHBvcHVwX2Q2MmQzNjBlNGZkNTQ5OWZiYmMzMWRjZDViOWE5YjEzID0gTC5wb3B1cCh7Im1heFdpZHRoIjogIjEwMCUifSk7CgogICAgICAgIAogICAgICAgICAgICB2YXIgaHRtbF9lMGY4YzUyZjg3YTE0YmZjYmY5NTQ3OGZlMjAyYmU1MiA9ICQoYDxkaXYgaWQ9Imh0bWxfZTBmOGM1MmY4N2ExNGJmY2JmOTU0NzhmZTIwMmJlNTIiIHN0eWxlPSJ3aWR0aDogMTAwLjAlOyBoZWlnaHQ6IDEwMC4wJTsiPkJvdHRyb3AgKFBvcHVsYXRpb246IDExNzM4MywgVmVudWVzIHBlciBQb3B1bGF0aW9uOiAwLjAwMDcyNCk8L2Rpdj5gKVswXTsKICAgICAgICAgICAgcG9wdXBfZDYyZDM2MGU0ZmQ1NDk5ZmJiYzMxZGNkNWI5YTliMTMuc2V0Q29udGVudChodG1sX2UwZjhjNTJmODdhMTRiZmNiZjk1NDc4ZmUyMDJiZTUyKTsKICAgICAgICAKCiAgICAgICAgY2lyY2xlX21hcmtlcl9jZjFjZmU2Nzg4ODc0ZmE4OGRlZjA5NTYzNzQ4M2MzMi5iaW5kUG9wdXAocG9wdXBfZDYyZDM2MGU0ZmQ1NDk5ZmJiYzMxZGNkNWI5YTliMTMpCiAgICAgICAgOwoKICAgICAgICAKICAgIAogICAgCiAgICAgICAgICAgIHZhciBjaXJjbGVfbWFya2VyXzJhZjJjMjk0MzIwZDQyMmZiOWFlM2U1N2I2YzRlM2Y1ID0gTC5jaXJjbGVNYXJrZXIoCiAgICAgICAgICAgICAgICBbNTMuNTUyMjI2NCwgOC41ODY1NTA5XSwKICAgICAgICAgICAgICAgIHsiYnViYmxpbmdNb3VzZUV2ZW50cyI6IHRydWUsICJjb2xvciI6ICJibHVlIiwgImRhc2hBcnJheSI6IG51bGwsICJkYXNoT2Zmc2V0IjogbnVsbCwgImZpbGwiOiB0cnVlLCAiZmlsbENvbG9yIjogIiMzMTg2Y2MiLCAiZmlsbE9wYWNpdHkiOiAwLjcsICJmaWxsUnVsZSI6ICJldmVub2RkIiwgImxpbmVDYXAiOiAicm91bmQiLCAibGluZUpvaW4iOiAicm91bmQiLCAib3BhY2l0eSI6IDEuMCwgInJhZGl1cyI6IDUsICJzdHJva2UiOiB0cnVlLCAid2VpZ2h0IjogM30KICAgICAgICAgICAgKS5hZGRUbyhtYXBfZTAyMTc1Y2I0MmI0NGJkMTg1ZDc2YWNjYmM4OGUxNjcpOwogICAgICAgIAogICAgCiAgICAgICAgdmFyIHBvcHVwX2FjZmY3ZTkwYmQwNjRiN2E4ZDUyMzI3NGNkMGEwYTAzID0gTC5wb3B1cCh7Im1heFdpZHRoIjogIjEwMCUifSk7CgogICAgICAgIAogICAgICAgICAgICB2YXIgaHRtbF9mNDE3ZmIyNGI2YzU0ODY5OGQ1MWZhNjczZWFlNTY4MiA9ICQoYDxkaXYgaWQ9Imh0bWxfZjQxN2ZiMjRiNmM1NDg2OThkNTFmYTY3M2VhZTU2ODIiIHN0eWxlPSJ3aWR0aDogMTAwLjAlOyBoZWlnaHQ6IDEwMC4wJTsiPkJyZW1lcmhhdmVuIChQb3B1bGF0aW9uOiAxMTM2MzQsIFZlbnVlcyBwZXIgUG9wdWxhdGlvbjogMC4wMDA0MTQpPC9kaXY+YClbMF07CiAgICAgICAgICAgIHBvcHVwX2FjZmY3ZTkwYmQwNjRiN2E4ZDUyMzI3NGNkMGEwYTAzLnNldENvbnRlbnQoaHRtbF9mNDE3ZmIyNGI2YzU0ODY5OGQ1MWZhNjczZWFlNTY4Mik7CiAgICAgICAgCgogICAgICAgIGNpcmNsZV9tYXJrZXJfMmFmMmMyOTQzMjBkNDIyZmI5YWUzZTU3YjZjNGUzZjUuYmluZFBvcHVwKHBvcHVwX2FjZmY3ZTkwYmQwNjRiN2E4ZDUyMzI3NGNkMGEwYTAzKQogICAgICAgIDsKCiAgICAgICAgCiAgICAKICAgIAogICAgICAgICAgICB2YXIgY2lyY2xlX21hcmtlcl81NGJlZTIwMDU4YmY0NWYwYmYxZDhlZjViMmNhYjczMCA9IEwuY2lyY2xlTWFya2VyKAogICAgICAgICAgICAgICAgWzUwLjgzMjI2MDgsIDEyLjkyNTI5NzddLAogICAgICAgICAgICAgICAgeyJidWJibGluZ01vdXNlRXZlbnRzIjogdHJ1ZSwgImNvbG9yIjogImJsdWUiLCAiZGFzaEFycmF5IjogbnVsbCwgImRhc2hPZmZzZXQiOiBudWxsLCAiZmlsbCI6IHRydWUsICJmaWxsQ29sb3IiOiAiIzMxODZjYyIsICJmaWxsT3BhY2l0eSI6IDAuNywgImZpbGxSdWxlIjogImV2ZW5vZGQiLCAibGluZUNhcCI6ICJyb3VuZCIsICJsaW5lSm9pbiI6ICJyb3VuZCIsICJvcGFjaXR5IjogMS4wLCAicmFkaXVzIjogNSwgInN0cm9rZSI6IHRydWUsICJ3ZWlnaHQiOiAzfQogICAgICAgICAgICApLmFkZFRvKG1hcF9lMDIxNzVjYjQyYjQ0YmQxODVkNzZhY2NiYzg4ZTE2Nyk7CiAgICAgICAgCiAgICAKICAgICAgICB2YXIgcG9wdXBfYmMxNDhkNDAwMDcwNDhlMGE4NTA1NzJiNDEwYjU5NjMgPSBMLnBvcHVwKHsibWF4V2lkdGgiOiAiMTAwJSJ9KTsKCiAgICAgICAgCiAgICAgICAgICAgIHZhciBodG1sX2IwNTg4MzhhNmU4NDQwMWVhNDAzMGMxMTNhYjdhYTUxID0gJChgPGRpdiBpZD0iaHRtbF9iMDU4ODM4YTZlODQ0MDFlYTQwMzBjMTEzYWI3YWE1MSIgc3R5bGU9IndpZHRoOiAxMDAuMCU7IGhlaWdodDogMTAwLjAlOyI+Q2hlbW5pdHogKFBvcHVsYXRpb246IDI0NzIzNywgVmVudWVzIHBlciBQb3B1bGF0aW9uOiAwLjAwMDIyMik8L2Rpdj5gKVswXTsKICAgICAgICAgICAgcG9wdXBfYmMxNDhkNDAwMDcwNDhlMGE4NTA1NzJiNDEwYjU5NjMuc2V0Q29udGVudChodG1sX2IwNTg4MzhhNmU4NDQwMWVhNDAzMGMxMTNhYjdhYTUxKTsKICAgICAgICAKCiAgICAgICAgY2lyY2xlX21hcmtlcl81NGJlZTIwMDU4YmY0NWYwYmYxZDhlZjViMmNhYjczMC5iaW5kUG9wdXAocG9wdXBfYmMxNDhkNDAwMDcwNDhlMGE4NTA1NzJiNDEwYjU5NjMpCiAgICAgICAgOwoKICAgICAgICAKICAgIAogICAgCiAgICAgICAgICAgIHZhciBjaXJjbGVfbWFya2VyXzQyNTk1ZjM1ZGIzNjRiZTJhMmU2ZTZhN2ZmYjZhMDc5ID0gTC5jaXJjbGVNYXJrZXIoCiAgICAgICAgICAgICAgICBbNTEuNzU2NzQ0NywgMTQuMzM1NzMwN10sCiAgICAgICAgICAgICAgICB7ImJ1YmJsaW5nTW91c2VFdmVudHMiOiB0cnVlLCAiY29sb3IiOiAiYmx1ZSIsICJkYXNoQXJyYXkiOiBudWxsLCAiZGFzaE9mZnNldCI6IG51bGwsICJmaWxsIjogdHJ1ZSwgImZpbGxDb2xvciI6ICIjMzE4NmNjIiwgImZpbGxPcGFjaXR5IjogMC43LCAiZmlsbFJ1bGUiOiAiZXZlbm9kZCIsICJsaW5lQ2FwIjogInJvdW5kIiwgImxpbmVKb2luIjogInJvdW5kIiwgIm9wYWNpdHkiOiAxLjAsICJyYWRpdXMiOiA1LCAic3Ryb2tlIjogdHJ1ZSwgIndlaWdodCI6IDN9CiAgICAgICAgICAgICkuYWRkVG8obWFwX2UwMjE3NWNiNDJiNDRiZDE4NWQ3NmFjY2JjODhlMTY3KTsKICAgICAgICAKICAgIAogICAgICAgIHZhciBwb3B1cF9iZWJjYTZkNzYyYzg0ZmNkYmU0NzZjZDZiNGY2ZjQxOSA9IEwucG9wdXAoeyJtYXhXaWR0aCI6ICIxMDAlIn0pOwoKICAgICAgICAKICAgICAgICAgICAgdmFyIGh0bWxfYzZhYTgzYjYwZWNlNDdjYmFhMTViZmNkODdiYzVjODYgPSAkKGA8ZGl2IGlkPSJodG1sX2M2YWE4M2I2MGVjZTQ3Y2JhYTE1YmZjZDg3YmM1Yzg2IiBzdHlsZT0id2lkdGg6IDEwMC4wJTsgaGVpZ2h0OiAxMDAuMCU7Ij5Db3R0YnVzIChQb3B1bGF0aW9uOiAxMDAyMTksIFZlbnVlcyBwZXIgUG9wdWxhdGlvbjogMC4wMDA1MDkpPC9kaXY+YClbMF07CiAgICAgICAgICAgIHBvcHVwX2JlYmNhNmQ3NjJjODRmY2RiZTQ3NmNkNmI0ZjZmNDE5LnNldENvbnRlbnQoaHRtbF9jNmFhODNiNjBlY2U0N2NiYWExNWJmY2Q4N2JjNWM4Nik7CiAgICAgICAgCgogICAgICAgIGNpcmNsZV9tYXJrZXJfNDI1OTVmMzVkYjM2NGJlMmEyZTZlNmE3ZmZiNmEwNzkuYmluZFBvcHVwKHBvcHVwX2JlYmNhNmQ3NjJjODRmY2RiZTQ3NmNkNmI0ZjZmNDE5KQogICAgICAgIDsKCiAgICAgICAgCiAgICAKICAgIAogICAgICAgICAgICB2YXIgY2lyY2xlX21hcmtlcl9kNjg2ZjcxNzBiYmE0ZDA2YTI0NmUzZjgyYjU2ZjI4NyA9IEwuY2lyY2xlTWFya2VyKAogICAgICAgICAgICAgICAgWzUxLjQzNDk5OSwgNi43NTk1NjJdLAogICAgICAgICAgICAgICAgeyJidWJibGluZ01vdXNlRXZlbnRzIjogdHJ1ZSwgImNvbG9yIjogImJsdWUiLCAiZGFzaEFycmF5IjogbnVsbCwgImRhc2hPZmZzZXQiOiBudWxsLCAiZmlsbCI6IHRydWUsICJmaWxsQ29sb3IiOiAiIzMxODZjYyIsICJmaWxsT3BhY2l0eSI6IDAuNywgImZpbGxSdWxlIjogImV2ZW5vZGQiLCAibGluZUNhcCI6ICJyb3VuZCIsICJsaW5lSm9pbiI6ICJyb3VuZCIsICJvcGFjaXR5IjogMS4wLCAicmFkaXVzIjogNSwgInN0cm9rZSI6IHRydWUsICJ3ZWlnaHQiOiAzfQogICAgICAgICAgICApLmFkZFRvKG1hcF9lMDIxNzVjYjQyYjQ0YmQxODVkNzZhY2NiYzg4ZTE2Nyk7CiAgICAgICAgCiAgICAKICAgICAgICB2YXIgcG9wdXBfYjNmN2Y4MWUzOTNhNGE1YmE2NTMyMzFlNzMyYzEwNzcgPSBMLnBvcHVwKHsibWF4V2lkdGgiOiAiMTAwJSJ9KTsKCiAgICAgICAgCiAgICAgICAgICAgIHZhciBodG1sX2FmNzFlZmZhMjUxZDQ2OTViMDQwNGMzMWM1ZDZhMmZmID0gJChgPGRpdiBpZD0iaHRtbF9hZjcxZWZmYTI1MWQ0Njk1YjA0MDRjMzFjNWQ2YTJmZiIgc3R5bGU9IndpZHRoOiAxMDAuMCU7IGhlaWdodDogMTAwLjAlOyI+RHVpc2J1cmcgKFBvcHVsYXRpb246IDQ5ODU5MCwgVmVudWVzIHBlciBQb3B1bGF0aW9uOiAwLjAwMDEyNik8L2Rpdj5gKVswXTsKICAgICAgICAgICAgcG9wdXBfYjNmN2Y4MWUzOTNhNGE1YmE2NTMyMzFlNzMyYzEwNzcuc2V0Q29udGVudChodG1sX2FmNzFlZmZhMjUxZDQ2OTViMDQwNGMzMWM1ZDZhMmZmKTsKICAgICAgICAKCiAgICAgICAgY2lyY2xlX21hcmtlcl9kNjg2ZjcxNzBiYmE0ZDA2YTI0NmUzZjgyYjU2ZjI4Ny5iaW5kUG9wdXAocG9wdXBfYjNmN2Y4MWUzOTNhNGE1YmE2NTMyMzFlNzMyYzEwNzcpCiAgICAgICAgOwoKICAgICAgICAKICAgIAogICAgCiAgICAgICAgICAgIHZhciBjaXJjbGVfbWFya2VyXzVjZjBiMDBlZmU1MzQ1OGZhYzJiNGM0M2ZiMjY3NDY2ID0gTC5jaXJjbGVNYXJrZXIoCiAgICAgICAgICAgICAgICBbNTEuNTExMDMyMSwgNy4wOTYwMTI0XSwKICAgICAgICAgICAgICAgIHsiYnViYmxpbmdNb3VzZUV2ZW50cyI6IHRydWUsICJjb2xvciI6ICJibHVlIiwgImRhc2hBcnJheSI6IG51bGwsICJkYXNoT2Zmc2V0IjogbnVsbCwgImZpbGwiOiB0cnVlLCAiZmlsbENvbG9yIjogIiMzMTg2Y2MiLCAiZmlsbE9wYWNpdHkiOiAwLjcsICJmaWxsUnVsZSI6ICJldmVub2RkIiwgImxpbmVDYXAiOiAicm91bmQiLCAibGluZUpvaW4iOiAicm91bmQiLCAib3BhY2l0eSI6IDEuMCwgInJhZGl1cyI6IDUsICJzdHJva2UiOiB0cnVlLCAid2VpZ2h0IjogM30KICAgICAgICAgICAgKS5hZGRUbyhtYXBfZTAyMTc1Y2I0MmI0NGJkMTg1ZDc2YWNjYmM4OGUxNjcpOwogICAgICAgIAogICAgCiAgICAgICAgdmFyIHBvcHVwXzMwMWRmZjlmYjRiYTQzNzdiNmIwMmYwMzMxYjE5NTY1ID0gTC5wb3B1cCh7Im1heFdpZHRoIjogIjEwMCUifSk7CgogICAgICAgIAogICAgICAgICAgICB2YXIgaHRtbF9jOGQwYzgyMTFiMjE0MWY4YWU1MDU1ZDE0OWU3ODdjNSA9ICQoYDxkaXYgaWQ9Imh0bWxfYzhkMGM4MjExYjIxNDFmOGFlNTA1NWQxNDllNzg3YzUiIHN0eWxlPSJ3aWR0aDogMTAwLjAlOyBoZWlnaHQ6IDEwMC4wJTsiPkdlbHNlbmtpcmNoZW4gKFBvcHVsYXRpb246IDI2MDY1NCwgVmVudWVzIHBlciBQb3B1bGF0aW9uOiAwLjAwMDI1Myk8L2Rpdj5gKVswXTsKICAgICAgICAgICAgcG9wdXBfMzAxZGZmOWZiNGJhNDM3N2I2YjAyZjAzMzFiMTk1NjUuc2V0Q29udGVudChodG1sX2M4ZDBjODIxMWIyMTQxZjhhZTUwNTVkMTQ5ZTc4N2M1KTsKICAgICAgICAKCiAgICAgICAgY2lyY2xlX21hcmtlcl81Y2YwYjAwZWZlNTM0NThmYWMyYjRjNDNmYjI2NzQ2Ni5iaW5kUG9wdXAocG9wdXBfMzAxZGZmOWZiNGJhNDM3N2I2YjAyZjAzMzFiMTk1NjUpCiAgICAgICAgOwoKICAgICAgICAKICAgIAogICAgCiAgICAgICAgICAgIHZhciBjaXJjbGVfbWFya2VyXzkxMzkyYjMyYmM3ODQzNmI5ZTdiMTE5ZGRkMDFjOWUwID0gTC5jaXJjbGVNYXJrZXIoCiAgICAgICAgICAgICAgICBbNTEuNTMyNzYwNCwgOS45MzUyMDUxXSwKICAgICAgICAgICAgICAgIHsiYnViYmxpbmdNb3VzZUV2ZW50cyI6IHRydWUsICJjb2xvciI6ICJibHVlIiwgImRhc2hBcnJheSI6IG51bGwsICJkYXNoT2Zmc2V0IjogbnVsbCwgImZpbGwiOiB0cnVlLCAiZmlsbENvbG9yIjogIiMzMTg2Y2MiLCAiZmlsbE9wYWNpdHkiOiAwLjcsICJmaWxsUnVsZSI6ICJldmVub2RkIiwgImxpbmVDYXAiOiAicm91bmQiLCAibGluZUpvaW4iOiAicm91bmQiLCAib3BhY2l0eSI6IDEuMCwgInJhZGl1cyI6IDUsICJzdHJva2UiOiB0cnVlLCAid2VpZ2h0IjogM30KICAgICAgICAgICAgKS5hZGRUbyhtYXBfZTAyMTc1Y2I0MmI0NGJkMTg1ZDc2YWNjYmM4OGUxNjcpOwogICAgICAgIAogICAgCiAgICAgICAgdmFyIHBvcHVwXzU5OTNlMmNmNmZlZDQzMmQ5YWM5MWU5YTczNDk5MjgwID0gTC5wb3B1cCh7Im1heFdpZHRoIjogIjEwMCUifSk7CgogICAgICAgIAogICAgICAgICAgICB2YXIgaHRtbF80ZWU2NWE0M2FiYzI0ZTMzYjQzMjEyNGUyMDQ3NDAyNSA9ICQoYDxkaXYgaWQ9Imh0bWxfNGVlNjVhNDNhYmMyNGUzM2I0MzIxMjRlMjA0NzQwMjUiIHN0eWxlPSJ3aWR0aDogMTAwLjAlOyBoZWlnaHQ6IDEwMC4wJTsiPkdvZXR0aW5nZW4gKFBvcHVsYXRpb246IDExOTgwMSwgVmVudWVzIHBlciBQb3B1bGF0aW9uOiAwLjAwMDY1OSk8L2Rpdj5gKVswXTsKICAgICAgICAgICAgcG9wdXBfNTk5M2UyY2Y2ZmVkNDMyZDlhYzkxZTlhNzM0OTkyODAuc2V0Q29udGVudChodG1sXzRlZTY1YTQzYWJjMjRlMzNiNDMyMTI0ZTIwNDc0MDI1KTsKICAgICAgICAKCiAgICAgICAgY2lyY2xlX21hcmtlcl85MTM5MmIzMmJjNzg0MzZiOWU3YjExOWRkZDAxYzllMC5iaW5kUG9wdXAocG9wdXBfNTk5M2UyY2Y2ZmVkNDMyZDlhYzkxZTlhNzM0OTkyODApCiAgICAgICAgOwoKICAgICAgICAKICAgIAogICAgCiAgICAgICAgICAgIHZhciBjaXJjbGVfbWFya2VyXzhhYzI1MmYzODE3OTQwZWFiMTBhNzcwY2M4MjgzOTIyID0gTC5jaXJjbGVNYXJrZXIoCiAgICAgICAgICAgICAgICBbNTEuOTA2Mzk5NywgOC4zNzgyMDc4XSwKICAgICAgICAgICAgICAgIHsiYnViYmxpbmdNb3VzZUV2ZW50cyI6IHRydWUsICJjb2xvciI6ICJibHVlIiwgImRhc2hBcnJheSI6IG51bGwsICJkYXNoT2Zmc2V0IjogbnVsbCwgImZpbGwiOiB0cnVlLCAiZmlsbENvbG9yIjogIiMzMTg2Y2MiLCAiZmlsbE9wYWNpdHkiOiAwLjcsICJmaWxsUnVsZSI6ICJldmVub2RkIiwgImxpbmVDYXAiOiAicm91bmQiLCAibGluZUpvaW4iOiAicm91bmQiLCAib3BhY2l0eSI6IDEuMCwgInJhZGl1cyI6IDUsICJzdHJva2UiOiB0cnVlLCAid2VpZ2h0IjogM30KICAgICAgICAgICAgKS5hZGRUbyhtYXBfZTAyMTc1Y2I0MmI0NGJkMTg1ZDc2YWNjYmM4OGUxNjcpOwogICAgICAgIAogICAgCiAgICAgICAgdmFyIHBvcHVwX2FhYTBiNmU1NWE0MTQyNjQ4Yzc0NjBiZGI4Y2EzYmVmID0gTC5wb3B1cCh7Im1heFdpZHRoIjogIjEwMCUifSk7CgogICAgICAgIAogICAgICAgICAgICB2YXIgaHRtbF81NWQ1NWUwYTViZWM0MDBiOWYxMTU1OTc3MzQ4MmEyZCA9ICQoYDxkaXYgaWQ9Imh0bWxfNTVkNTVlMGE1YmVjNDAwYjlmMTE1NTk3NzM0ODJhMmQiIHN0eWxlPSJ3aWR0aDogMTAwLjAlOyBoZWlnaHQ6IDEwMC4wJTsiPkd1ZXRlcnNsb2ggKFBvcHVsYXRpb246IDEwMDE5NCwgVmVudWVzIHBlciBQb3B1bGF0aW9uOiAwLjAwMDYyOSk8L2Rpdj5gKVswXTsKICAgICAgICAgICAgcG9wdXBfYWFhMGI2ZTU1YTQxNDI2NDhjNzQ2MGJkYjhjYTNiZWYuc2V0Q29udGVudChodG1sXzU1ZDU1ZTBhNWJlYzQwMGI5ZjExNTU5NzczNDgyYTJkKTsKICAgICAgICAKCiAgICAgICAgY2lyY2xlX21hcmtlcl84YWMyNTJmMzgxNzk0MGVhYjEwYTc3MGNjODI4MzkyMi5iaW5kUG9wdXAocG9wdXBfYWFhMGI2ZTU1YTQxNDI2NDhjNzQ2MGJkYjhjYTNiZWYpCiAgICAgICAgOwoKICAgICAgICAKICAgIAogICAgCiAgICAgICAgICAgIHZhciBjaXJjbGVfbWFya2VyX2Y4ODM3NzA5NWJkMzQ5YzQ4MzQ0M2I3OWRmOTNiOTU0ID0gTC5jaXJjbGVNYXJrZXIoCiAgICAgICAgICAgICAgICBbNTEuMzU4Mjk0NSwgNy40NzMyOTZdLAogICAgICAgICAgICAgICAgeyJidWJibGluZ01vdXNlRXZlbnRzIjogdHJ1ZSwgImNvbG9yIjogImJsdWUiLCAiZGFzaEFycmF5IjogbnVsbCwgImRhc2hPZmZzZXQiOiBudWxsLCAiZmlsbCI6IHRydWUsICJmaWxsQ29sb3IiOiAiIzMxODZjYyIsICJmaWxsT3BhY2l0eSI6IDAuNywgImZpbGxSdWxlIjogImV2ZW5vZGQiLCAibGluZUNhcCI6ICJyb3VuZCIsICJsaW5lSm9pbiI6ICJyb3VuZCIsICJvcGFjaXR5IjogMS4wLCAicmFkaXVzIjogNSwgInN0cm9rZSI6IHRydWUsICJ3ZWlnaHQiOiAzfQogICAgICAgICAgICApLmFkZFRvKG1hcF9lMDIxNzVjYjQyYjQ0YmQxODVkNzZhY2NiYzg4ZTE2Nyk7CiAgICAgICAgCiAgICAKICAgICAgICB2YXIgcG9wdXBfNzNmOGYwODMzZjBjNGU1NGJjNjdjMThiOTk0YjNjNWIgPSBMLnBvcHVwKHsibWF4V2lkdGgiOiAiMTAwJSJ9KTsKCiAgICAgICAgCiAgICAgICAgICAgIHZhciBodG1sXzVkNTYyZGYxMjJkYzRmY2E4Yzk2M2E4ZDU4YjAwOTM4ID0gJChgPGRpdiBpZD0iaHRtbF81ZDU2MmRmMTIyZGM0ZmNhOGM5NjNhOGQ1OGIwMDkzOCIgc3R5bGU9IndpZHRoOiAxMDAuMCU7IGhlaWdodDogMTAwLjAlOyI+SGFnZW4gKFBvcHVsYXRpb246IDE4ODgxNCwgVmVudWVzIHBlciBQb3B1bGF0aW9uOiAwLjAwMDQxOCk8L2Rpdj5gKVswXTsKICAgICAgICAgICAgcG9wdXBfNzNmOGYwODMzZjBjNGU1NGJjNjdjMThiOTk0YjNjNWIuc2V0Q29udGVudChodG1sXzVkNTYyZGYxMjJkYzRmY2E4Yzk2M2E4ZDU4YjAwOTM4KTsKICAgICAgICAKCiAgICAgICAgY2lyY2xlX21hcmtlcl9mODgzNzcwOTViZDM0OWM0ODM0NDNiNzlkZjkzYjk1NC5iaW5kUG9wdXAocG9wdXBfNzNmOGYwODMzZjBjNGU1NGJjNjdjMThiOTk0YjNjNWIpCiAgICAgICAgOwoKICAgICAgICAKICAgIAogICAgCiAgICAgICAgICAgIHZhciBjaXJjbGVfbWFya2VyX2Q0MGYyZmY5ZTkyMDQ3ZDJhMDE0ZWQ5Y2JmYjkzODI3ID0gTC5jaXJjbGVNYXJrZXIoCiAgICAgICAgICAgICAgICBbNTEuNjgwNDA5MywgNy44MTUxOTddLAogICAgICAgICAgICAgICAgeyJidWJibGluZ01vdXNlRXZlbnRzIjogdHJ1ZSwgImNvbG9yIjogImJsdWUiLCAiZGFzaEFycmF5IjogbnVsbCwgImRhc2hPZmZzZXQiOiBudWxsLCAiZmlsbCI6IHRydWUsICJmaWxsQ29sb3IiOiAiIzMxODZjYyIsICJmaWxsT3BhY2l0eSI6IDAuNywgImZpbGxSdWxlIjogImV2ZW5vZGQiLCAibGluZUNhcCI6ICJyb3VuZCIsICJsaW5lSm9pbiI6ICJyb3VuZCIsICJvcGFjaXR5IjogMS4wLCAicmFkaXVzIjogNSwgInN0cm9rZSI6IHRydWUsICJ3ZWlnaHQiOiAzfQogICAgICAgICAgICApLmFkZFRvKG1hcF9lMDIxNzVjYjQyYjQ0YmQxODVkNzZhY2NiYzg4ZTE2Nyk7CiAgICAgICAgCiAgICAKICAgICAgICB2YXIgcG9wdXBfN2M0NzQwMGU2NmRjNDYzNjlkODAzZmEyOTE5YzJjMDMgPSBMLnBvcHVwKHsibWF4V2lkdGgiOiAiMTAwJSJ9KTsKCiAgICAgICAgCiAgICAgICAgICAgIHZhciBodG1sXzcxNTk3MmNlMzYzYTQ4ZTU4YjljNjU4M2FhMjc5MGU3ID0gJChgPGRpdiBpZD0iaHRtbF83MTU5NzJjZTM2M2E0OGU1OGI5YzY1ODNhYTI3OTBlNyIgc3R5bGU9IndpZHRoOiAxMDAuMCU7IGhlaWdodDogMTAwLjAlOyI+SGFtbSAoUG9wdWxhdGlvbjogMTc5MTExLCBWZW51ZXMgcGVyIFBvcHVsYXRpb246IDAuMDAwMzY4KTwvZGl2PmApWzBdOwogICAgICAgICAgICBwb3B1cF83YzQ3NDAwZTY2ZGM0NjM2OWQ4MDNmYTI5MTljMmMwMy5zZXRDb250ZW50KGh0bWxfNzE1OTcyY2UzNjNhNDhlNThiOWM2NTgzYWEyNzkwZTcpOwogICAgICAgIAoKICAgICAgICBjaXJjbGVfbWFya2VyX2Q0MGYyZmY5ZTkyMDQ3ZDJhMDE0ZWQ5Y2JmYjkzODI3LmJpbmRQb3B1cChwb3B1cF83YzQ3NDAwZTY2ZGM0NjM2OWQ4MDNmYTI5MTljMmMwMykKICAgICAgICA7CgogICAgICAgIAogICAgCiAgICAKICAgICAgICAgICAgdmFyIGNpcmNsZV9tYXJrZXJfOWFmNjM5MDIwYTkyNGI2YWFhZjUxMjQyYTE0NTEyNzggPSBMLmNpcmNsZU1hcmtlcigKICAgICAgICAgICAgICAgIFs0OS40MDkzNTgyLCA4LjY5NDcyNF0sCiAgICAgICAgICAgICAgICB7ImJ1YmJsaW5nTW91c2VFdmVudHMiOiB0cnVlLCAiY29sb3IiOiAiYmx1ZSIsICJkYXNoQXJyYXkiOiBudWxsLCAiZGFzaE9mZnNldCI6IG51bGwsICJmaWxsIjogdHJ1ZSwgImZpbGxDb2xvciI6ICIjMzE4NmNjIiwgImZpbGxPcGFjaXR5IjogMC43LCAiZmlsbFJ1bGUiOiAiZXZlbm9kZCIsICJsaW5lQ2FwIjogInJvdW5kIiwgImxpbmVKb2luIjogInJvdW5kIiwgIm9wYWNpdHkiOiAxLjAsICJyYWRpdXMiOiA1LCAic3Ryb2tlIjogdHJ1ZSwgIndlaWdodCI6IDN9CiAgICAgICAgICAgICkuYWRkVG8obWFwX2UwMjE3NWNiNDJiNDRiZDE4NWQ3NmFjY2JjODhlMTY3KTsKICAgICAgICAKICAgIAogICAgICAgIHZhciBwb3B1cF83ZjEwNDkyYjc2YTg0ZDdjYmM2YTNjZjc3YWRhNjU3YiA9IEwucG9wdXAoeyJtYXhXaWR0aCI6ICIxMDAlIn0pOwoKICAgICAgICAKICAgICAgICAgICAgdmFyIGh0bWxfYTdhYzMzYzg4OWFkNGQ0YTkxYzUwYjQzODRmYmMzZTIgPSAkKGA8ZGl2IGlkPSJodG1sX2E3YWMzM2M4ODlhZDRkNGE5MWM1MGI0Mzg0ZmJjM2UyIiBzdHlsZT0id2lkdGg6IDEwMC4wJTsgaGVpZ2h0OiAxMDAuMCU7Ij5IZWlkZWxiZXJnIChQb3B1bGF0aW9uOiAxNjAzNTUsIFZlbnVlcyBwZXIgUG9wdWxhdGlvbjogMC4wMDA1ODYpPC9kaXY+YClbMF07CiAgICAgICAgICAgIHBvcHVwXzdmMTA0OTJiNzZhODRkN2NiYzZhM2NmNzdhZGE2NTdiLnNldENvbnRlbnQoaHRtbF9hN2FjMzNjODg5YWQ0ZDRhOTFjNTBiNDM4NGZiYzNlMik7CiAgICAgICAgCgogICAgICAgIGNpcmNsZV9tYXJrZXJfOWFmNjM5MDIwYTkyNGI2YWFhZjUxMjQyYTE0NTEyNzguYmluZFBvcHVwKHBvcHVwXzdmMTA0OTJiNzZhODRkN2NiYzZhM2NmNzdhZGE2NTdiKQogICAgICAgIDsKCiAgICAgICAgCiAgICAKICAgIAogICAgICAgICAgICB2YXIgY2lyY2xlX21hcmtlcl82YWEzZjgyYzY0MjY0NjQ4YTkzNDQ5MjdkMzU2ZDE5NyA9IEwuY2lyY2xlTWFya2VyKAogICAgICAgICAgICAgICAgWzQ5LjE0MjI5MSwgOS4yMTg2NTVdLAogICAgICAgICAgICAgICAgeyJidWJibGluZ01vdXNlRXZlbnRzIjogdHJ1ZSwgImNvbG9yIjogImJsdWUiLCAiZGFzaEFycmF5IjogbnVsbCwgImRhc2hPZmZzZXQiOiBudWxsLCAiZmlsbCI6IHRydWUsICJmaWxsQ29sb3IiOiAiIzMxODZjYyIsICJmaWxsT3BhY2l0eSI6IDAuNywgImZpbGxSdWxlIjogImV2ZW5vZGQiLCAibGluZUNhcCI6ICJyb3VuZCIsICJsaW5lSm9pbiI6ICJyb3VuZCIsICJvcGFjaXR5IjogMS4wLCAicmFkaXVzIjogNSwgInN0cm9rZSI6IHRydWUsICJ3ZWlnaHQiOiAzfQogICAgICAgICAgICApLmFkZFRvKG1hcF9lMDIxNzVjYjQyYjQ0YmQxODVkNzZhY2NiYzg4ZTE2Nyk7CiAgICAgICAgCiAgICAKICAgICAgICB2YXIgcG9wdXBfNjQ1ZmVhYzJiN2U1NGY4MzhjMzg0YzQwMzlhYTc4YzIgPSBMLnBvcHVwKHsibWF4V2lkdGgiOiAiMTAwJSJ9KTsKCiAgICAgICAgCiAgICAgICAgICAgIHZhciBodG1sXzU0ZTlkY2RhNTlmMzRhNmRhMDA3M2E4ZjQ0MzdjOWVjID0gJChgPGRpdiBpZD0iaHRtbF81NGU5ZGNkYTU5ZjM0YTZkYTAwNzNhOGY0NDM3YzllYyIgc3R5bGU9IndpZHRoOiAxMDAuMCU7IGhlaWdodDogMTAwLjAlOyI+SGVpbGJyb25uIChQb3B1bGF0aW9uOiAxMjU5NjAsIFZlbnVlcyBwZXIgUG9wdWxhdGlvbjogMC4wMDA3MjIpPC9kaXY+YClbMF07CiAgICAgICAgICAgIHBvcHVwXzY0NWZlYWMyYjdlNTRmODM4YzM4NGM0MDM5YWE3OGMyLnNldENvbnRlbnQoaHRtbF81NGU5ZGNkYTU5ZjM0YTZkYTAwNzNhOGY0NDM3YzllYyk7CiAgICAgICAgCgogICAgICAgIGNpcmNsZV9tYXJrZXJfNmFhM2Y4MmM2NDI2NDY0OGE5MzQ0OTI3ZDM1NmQxOTcuYmluZFBvcHVwKHBvcHVwXzY0NWZlYWMyYjdlNTRmODM4YzM4NGM0MDM5YWE3OGMyKQogICAgICAgIDsKCiAgICAgICAgCiAgICAKICAgIAogICAgICAgICAgICB2YXIgY2lyY2xlX21hcmtlcl8yMmVlYjE0YzgzZDk0Mzc0YjdiYjU1M2M0NjJkNzI1MiA9IEwuY2lyY2xlTWFya2VyKAogICAgICAgICAgICAgICAgWzUyLjE1MjE2MzYsIDkuOTUxMzA0Nl0sCiAgICAgICAgICAgICAgICB7ImJ1YmJsaW5nTW91c2VFdmVudHMiOiB0cnVlLCAiY29sb3IiOiAiYmx1ZSIsICJkYXNoQXJyYXkiOiBudWxsLCAiZGFzaE9mZnNldCI6IG51bGwsICJmaWxsIjogdHJ1ZSwgImZpbGxDb2xvciI6ICIjMzE4NmNjIiwgImZpbGxPcGFjaXR5IjogMC43LCAiZmlsbFJ1bGUiOiAiZXZlbm9kZCIsICJsaW5lQ2FwIjogInJvdW5kIiwgImxpbmVKb2luIjogInJvdW5kIiwgIm9wYWNpdHkiOiAxLjAsICJyYWRpdXMiOiA1LCAic3Ryb2tlIjogdHJ1ZSwgIndlaWdodCI6IDN9CiAgICAgICAgICAgICkuYWRkVG8obWFwX2UwMjE3NWNiNDJiNDRiZDE4NWQ3NmFjY2JjODhlMTY3KTsKICAgICAgICAKICAgIAogICAgICAgIHZhciBwb3B1cF9mYjRkMWQzYmQwNTU0ODVkYThmNWVlMTNlNzg2YjIyNCA9IEwucG9wdXAoeyJtYXhXaWR0aCI6ICIxMDAlIn0pOwoKICAgICAgICAKICAgICAgICAgICAgdmFyIGh0bWxfODBjYzQ5MzliMWY4NDllYzg3M2NlODYxMzc3OWVjNGYgPSAkKGA8ZGl2IGlkPSJodG1sXzgwY2M0OTM5YjFmODQ5ZWM4NzNjZTg2MTM3NzllYzRmIiBzdHlsZT0id2lkdGg6IDEwMC4wJTsgaGVpZ2h0OiAxMDAuMCU7Ij5IaWxkZXNoZWltIChQb3B1bGF0aW9uOiAxMDE5OTAsIFZlbnVlcyBwZXIgUG9wdWxhdGlvbjogMC4wMDA0NTEpPC9kaXY+YClbMF07CiAgICAgICAgICAgIHBvcHVwX2ZiNGQxZDNiZDA1NTQ4NWRhOGY1ZWUxM2U3ODZiMjI0LnNldENvbnRlbnQoaHRtbF84MGNjNDkzOWIxZjg0OWVjODczY2U4NjEzNzc5ZWM0Zik7CiAgICAgICAgCgogICAgICAgIGNpcmNsZV9tYXJrZXJfMjJlZWIxNGM4M2Q5NDM3NGI3YmI1NTNjNDYyZDcyNTIuYmluZFBvcHVwKHBvcHVwX2ZiNGQxZDNiZDA1NTQ4NWRhOGY1ZWUxM2U3ODZiMjI0KQogICAgICAgIDsKCiAgICAgICAgCiAgICAKICAgIAogICAgICAgICAgICB2YXIgY2lyY2xlX21hcmtlcl9iYTkxZGNhZDBiYzc0OGQ2OTA5NTUzNjBhMTg2Y2RhYyA9IEwuY2lyY2xlTWFya2VyKAogICAgICAgICAgICAgICAgWzQ4Ljc2MzAxNjUsIDExLjQyNTAzOTVdLAogICAgICAgICAgICAgICAgeyJidWJibGluZ01vdXNlRXZlbnRzIjogdHJ1ZSwgImNvbG9yIjogImJsdWUiLCAiZGFzaEFycmF5IjogbnVsbCwgImRhc2hPZmZzZXQiOiBudWxsLCAiZmlsbCI6IHRydWUsICJmaWxsQ29sb3IiOiAiIzMxODZjYyIsICJmaWxsT3BhY2l0eSI6IDAuNywgImZpbGxSdWxlIjogImV2ZW5vZGQiLCAibGluZUNhcCI6ICJyb3VuZCIsICJsaW5lSm9pbiI6ICJyb3VuZCIsICJvcGFjaXR5IjogMS4wLCAicmFkaXVzIjogNSwgInN0cm9rZSI6IHRydWUsICJ3ZWlnaHQiOiAzfQogICAgICAgICAgICApLmFkZFRvKG1hcF9lMDIxNzVjYjQyYjQ0YmQxODVkNzZhY2NiYzg4ZTE2Nyk7CiAgICAgICAgCiAgICAKICAgICAgICB2YXIgcG9wdXBfMzJiZDFjZmEzMWVjNDhjYWIwNTQzZDRlMDM5OTdlZmQgPSBMLnBvcHVwKHsibWF4V2lkdGgiOiAiMTAwJSJ9KTsKCiAgICAgICAgCiAgICAgICAgICAgIHZhciBodG1sX2QyNjY4NTliZDk0ZjQxNDc4MWY4MWY2YTg0YjQ3MzEwID0gJChgPGRpdiBpZD0iaHRtbF9kMjY2ODU5YmQ5NGY0MTQ3ODFmODFmNmE4NGI0NzMxMCIgc3R5bGU9IndpZHRoOiAxMDAuMCU7IGhlaWdodDogMTAwLjAlOyI+SW5nb2xzdGFkdCAoUG9wdWxhdGlvbjogMTM2OTgxLCBWZW51ZXMgcGVyIFBvcHVsYXRpb246IDAuMDAwNDY3KTwvZGl2PmApWzBdOwogICAgICAgICAgICBwb3B1cF8zMmJkMWNmYTMxZWM0OGNhYjA1NDNkNGUwMzk5N2VmZC5zZXRDb250ZW50KGh0bWxfZDI2Njg1OWJkOTRmNDE0NzgxZjgxZjZhODRiNDczMTApOwogICAgICAgIAoKICAgICAgICBjaXJjbGVfbWFya2VyX2JhOTFkY2FkMGJjNzQ4ZDY5MDk1NTM2MGExODZjZGFjLmJpbmRQb3B1cChwb3B1cF8zMmJkMWNmYTMxZWM0OGNhYjA1NDNkNGUwMzk5N2VmZCkKICAgICAgICA7CgogICAgICAgIAogICAgCiAgICAKICAgICAgICAgICAgdmFyIGNpcmNsZV9tYXJrZXJfNTQ1OTNmMTJmMjdlNGZkM2E2NzdlMTAyMTY3MzlhZDUgPSBMLmNpcmNsZU1hcmtlcigKICAgICAgICAgICAgICAgIFs1MC45MjgxNzE3LCAxMS41ODc5MzU5XSwKICAgICAgICAgICAgICAgIHsiYnViYmxpbmdNb3VzZUV2ZW50cyI6IHRydWUsICJjb2xvciI6ICJibHVlIiwgImRhc2hBcnJheSI6IG51bGwsICJkYXNoT2Zmc2V0IjogbnVsbCwgImZpbGwiOiB0cnVlLCAiZmlsbENvbG9yIjogIiMzMTg2Y2MiLCAiZmlsbE9wYWNpdHkiOiAwLjcsICJmaWxsUnVsZSI6ICJldmVub2RkIiwgImxpbmVDYXAiOiAicm91bmQiLCAibGluZUpvaW4iOiAicm91bmQiLCAib3BhY2l0eSI6IDEuMCwgInJhZGl1cyI6IDUsICJzdHJva2UiOiB0cnVlLCAid2VpZ2h0IjogM30KICAgICAgICAgICAgKS5hZGRUbyhtYXBfZTAyMTc1Y2I0MmI0NGJkMTg1ZDc2YWNjYmM4OGUxNjcpOwogICAgICAgIAogICAgCiAgICAgICAgdmFyIHBvcHVwX2NhMjllMDIyNjk0MTRkODA4ZGUwMWU4MDY3MDc4ZTRiID0gTC5wb3B1cCh7Im1heFdpZHRoIjogIjEwMCUifSk7CgogICAgICAgIAogICAgICAgICAgICB2YXIgaHRtbF8yYmQyYmUxOWI2MWI0OTEwYTI1NzQ4YzgwYWFhYzc5MCA9ICQoYDxkaXYgaWQ9Imh0bWxfMmJkMmJlMTliNjFiNDkxMGEyNTc0OGM4MGFhYWM3OTAiIHN0eWxlPSJ3aWR0aDogMTAwLjAlOyBoZWlnaHQ6IDEwMC4wJTsiPkplbmEgKFBvcHVsYXRpb246IDExMTQwNywgVmVudWVzIHBlciBQb3B1bGF0aW9uOiAwLjAwMDU5Mik8L2Rpdj5gKVswXTsKICAgICAgICAgICAgcG9wdXBfY2EyOWUwMjI2OTQxNGQ4MDhkZTAxZTgwNjcwNzhlNGIuc2V0Q29udGVudChodG1sXzJiZDJiZTE5YjYxYjQ5MTBhMjU3NDhjODBhYWFjNzkwKTsKICAgICAgICAKCiAgICAgICAgY2lyY2xlX21hcmtlcl81NDU5M2YxMmYyN2U0ZmQzYTY3N2UxMDIxNjczOWFkNS5iaW5kUG9wdXAocG9wdXBfY2EyOWUwMjI2OTQxNGQ4MDhkZTAxZTgwNjcwNzhlNGIpCiAgICAgICAgOwoKICAgICAgICAKICAgIAogICAgCiAgICAgICAgICAgIHZhciBjaXJjbGVfbWFya2VyXzEwZGQxZDk2YzIxODQ1ODZiN2I3YjU5NjY3NGZhNDljID0gTC5jaXJjbGVNYXJrZXIoCiAgICAgICAgICAgICAgICBbNTQuMzIyNzA4NSwgMTAuMTM1NTU1XSwKICAgICAgICAgICAgICAgIHsiYnViYmxpbmdNb3VzZUV2ZW50cyI6IHRydWUsICJjb2xvciI6ICJibHVlIiwgImRhc2hBcnJheSI6IG51bGwsICJkYXNoT2Zmc2V0IjogbnVsbCwgImZpbGwiOiB0cnVlLCAiZmlsbENvbG9yIjogIiMzMTg2Y2MiLCAiZmlsbE9wYWNpdHkiOiAwLjcsICJmaWxsUnVsZSI6ICJldmVub2RkIiwgImxpbmVDYXAiOiAicm91bmQiLCAibGluZUpvaW4iOiAicm91bmQiLCAib3BhY2l0eSI6IDEuMCwgInJhZGl1cyI6IDUsICJzdHJva2UiOiB0cnVlLCAid2VpZ2h0IjogM30KICAgICAgICAgICAgKS5hZGRUbyhtYXBfZTAyMTc1Y2I0MmI0NGJkMTg1ZDc2YWNjYmM4OGUxNjcpOwogICAgICAgIAogICAgCiAgICAgICAgdmFyIHBvcHVwXzMwYTZkZWUzMWQ1ODQ0ZjQ4N2RhNDQ5ZGZiOGE0YTAxID0gTC5wb3B1cCh7Im1heFdpZHRoIjogIjEwMCUifSk7CgogICAgICAgIAogICAgICAgICAgICB2YXIgaHRtbF9kMzA3NWY1YjQyYjY0ZGZjYTViOTc3M2YyYzg0MmNhZiA9ICQoYDxkaXYgaWQ9Imh0bWxfZDMwNzVmNWI0MmI2NGRmY2E1Yjk3NzNmMmM4NDJjYWYiIHN0eWxlPSJ3aWR0aDogMTAwLjAlOyBoZWlnaHQ6IDEwMC4wJTsiPktpZWwgKFBvcHVsYXRpb246IDI0NzU0OCwgVmVudWVzIHBlciBQb3B1bGF0aW9uOiAwLjAwMDM3Nik8L2Rpdj5gKVswXTsKICAgICAgICAgICAgcG9wdXBfMzBhNmRlZTMxZDU4NDRmNDg3ZGE0NDlkZmI4YTRhMDEuc2V0Q29udGVudChodG1sX2QzMDc1ZjViNDJiNjRkZmNhNWI5NzczZjJjODQyY2FmKTsKICAgICAgICAKCiAgICAgICAgY2lyY2xlX21hcmtlcl8xMGRkMWQ5NmMyMTg0NTg2YjdiN2I1OTY2NzRmYTQ5Yy5iaW5kUG9wdXAocG9wdXBfMzBhNmRlZTMxZDU4NDRmNDg3ZGE0NDlkZmI4YTRhMDEpCiAgICAgICAgOwoKICAgICAgICAKICAgIAogICAgCiAgICAgICAgICAgIHZhciBjaXJjbGVfbWFya2VyXzJjOWIwMTJiYTc3MjQ0ZTdiZjdkN2MxN2Q0ZDNkZTZjID0gTC5jaXJjbGVNYXJrZXIoCiAgICAgICAgICAgICAgICBbNTAuMzUzMzI3OCwgNy41OTQzOTUxXSwKICAgICAgICAgICAgICAgIHsiYnViYmxpbmdNb3VzZUV2ZW50cyI6IHRydWUsICJjb2xvciI6ICJibHVlIiwgImRhc2hBcnJheSI6IG51bGwsICJkYXNoT2Zmc2V0IjogbnVsbCwgImZpbGwiOiB0cnVlLCAiZmlsbENvbG9yIjogIiMzMTg2Y2MiLCAiZmlsbE9wYWNpdHkiOiAwLjcsICJmaWxsUnVsZSI6ICJldmVub2RkIiwgImxpbmVDYXAiOiAicm91bmQiLCAibGluZUpvaW4iOiAicm91bmQiLCAib3BhY2l0eSI6IDEuMCwgInJhZGl1cyI6IDUsICJzdHJva2UiOiB0cnVlLCAid2VpZ2h0IjogM30KICAgICAgICAgICAgKS5hZGRUbyhtYXBfZTAyMTc1Y2I0MmI0NGJkMTg1ZDc2YWNjYmM4OGUxNjcpOwogICAgICAgIAogICAgCiAgICAgICAgdmFyIHBvcHVwXzFiMjRiY2MwZjhkZjRiZTdhM2VmYWUwYmZlZTk3ZGM5ID0gTC5wb3B1cCh7Im1heFdpZHRoIjogIjEwMCUifSk7CgogICAgICAgIAogICAgICAgICAgICB2YXIgaHRtbF9jYWRmOWFiMGY2YmM0MTE4OTFlODdkYjJkNzE3ZWE2MyA9ICQoYDxkaXYgaWQ9Imh0bWxfY2FkZjlhYjBmNmJjNDExODkxZTg3ZGIyZDcxN2VhNjMiIHN0eWxlPSJ3aWR0aDogMTAwLjAlOyBoZWlnaHQ6IDEwMC4wJTsiPktvYmxlbnogKFBvcHVsYXRpb246IDExNDAyNCwgVmVudWVzIHBlciBQb3B1bGF0aW9uOiAwLjAwMDg1OSk8L2Rpdj5gKVswXTsKICAgICAgICAgICAgcG9wdXBfMWIyNGJjYzBmOGRmNGJlN2EzZWZhZTBiZmVlOTdkYzkuc2V0Q29udGVudChodG1sX2NhZGY5YWIwZjZiYzQxMTg5MWU4N2RiMmQ3MTdlYTYzKTsKICAgICAgICAKCiAgICAgICAgY2lyY2xlX21hcmtlcl8yYzliMDEyYmE3NzI0NGU3YmY3ZDdjMTdkNGQzZGU2Yy5iaW5kUG9wdXAocG9wdXBfMWIyNGJjYzBmOGRmNGJlN2EzZWZhZTBiZmVlOTdkYzkpCiAgICAgICAgOwoKICAgICAgICAKICAgIAogICAgCiAgICAgICAgICAgIHZhciBjaXJjbGVfbWFya2VyX2VmMDNmOWE5ZDY0ZjQ4Mzg5OTVmOTE0ODU5ODc5YjljID0gTC5jaXJjbGVNYXJrZXIoCiAgICAgICAgICAgICAgICBbNTEuMDMyNDc0MywgNi45ODgxMTk0XSwKICAgICAgICAgICAgICAgIHsiYnViYmxpbmdNb3VzZUV2ZW50cyI6IHRydWUsICJjb2xvciI6ICJibHVlIiwgImRhc2hBcnJheSI6IG51bGwsICJkYXNoT2Zmc2V0IjogbnVsbCwgImZpbGwiOiB0cnVlLCAiZmlsbENvbG9yIjogIiMzMTg2Y2MiLCAiZmlsbE9wYWNpdHkiOiAwLjcsICJmaWxsUnVsZSI6ICJldmVub2RkIiwgImxpbmVDYXAiOiAicm91bmQiLCAibGluZUpvaW4iOiAicm91bmQiLCAib3BhY2l0eSI6IDEuMCwgInJhZGl1cyI6IDUsICJzdHJva2UiOiB0cnVlLCAid2VpZ2h0IjogM30KICAgICAgICAgICAgKS5hZGRUbyhtYXBfZTAyMTc1Y2I0MmI0NGJkMTg1ZDc2YWNjYmM4OGUxNjcpOwogICAgICAgIAogICAgCiAgICAgICAgdmFyIHBvcHVwXzQzNWRiYzdjZTY1MTQ2MGQ4Y2Q3MWFjMDdjMjZiNGMyID0gTC5wb3B1cCh7Im1heFdpZHRoIjogIjEwMCUifSk7CgogICAgICAgIAogICAgICAgICAgICB2YXIgaHRtbF82MjJhMmRhMzA2NDU0YjJlYjQ2ZjliMmI4NmNjNWYyMSA9ICQoYDxkaXYgaWQ9Imh0bWxfNjIyYTJkYTMwNjQ1NGIyZWI0NmY5YjJiODZjYzVmMjEiIHN0eWxlPSJ3aWR0aDogMTAwLjAlOyBoZWlnaHQ6IDEwMC4wJTsiPkxldmVya3VzZW4gKFBvcHVsYXRpb246IDE2MzgzOCwgVmVudWVzIHBlciBQb3B1bGF0aW9uOiAwLjAwMDU5Mik8L2Rpdj5gKVswXTsKICAgICAgICAgICAgcG9wdXBfNDM1ZGJjN2NlNjUxNDYwZDhjZDcxYWMwN2MyNmI0YzIuc2V0Q29udGVudChodG1sXzYyMmEyZGEzMDY0NTRiMmViNDZmOWIyYjg2Y2M1ZjIxKTsKICAgICAgICAKCiAgICAgICAgY2lyY2xlX21hcmtlcl9lZjAzZjlhOWQ2NGY0ODM4OTk1ZjkxNDg1OTg3OWI5Yy5iaW5kUG9wdXAocG9wdXBfNDM1ZGJjN2NlNjUxNDYwZDhjZDcxYWMwN2MyNmI0YzIpCiAgICAgICAgOwoKICAgICAgICAKICAgIAogICAgCiAgICAgICAgICAgIHZhciBjaXJjbGVfbWFya2VyX2JjYmVlZDRlNDY5NzQzNmM4N2E4YmEyNzUxNjczYWVlID0gTC5jaXJjbGVNYXJrZXIoCiAgICAgICAgICAgICAgICBbNTAuMDAxMjMxNCwgOC4yNzYyNTEzXSwKICAgICAgICAgICAgICAgIHsiYnViYmxpbmdNb3VzZUV2ZW50cyI6IHRydWUsICJjb2xvciI6ICJibHVlIiwgImRhc2hBcnJheSI6IG51bGwsICJkYXNoT2Zmc2V0IjogbnVsbCwgImZpbGwiOiB0cnVlLCAiZmlsbENvbG9yIjogIiMzMTg2Y2MiLCAiZmlsbE9wYWNpdHkiOiAwLjcsICJmaWxsUnVsZSI6ICJldmVub2RkIiwgImxpbmVDYXAiOiAicm91bmQiLCAibGluZUpvaW4iOiAicm91bmQiLCAib3BhY2l0eSI6IDEuMCwgInJhZGl1cyI6IDUsICJzdHJva2UiOiB0cnVlLCAid2VpZ2h0IjogM30KICAgICAgICAgICAgKS5hZGRUbyhtYXBfZTAyMTc1Y2I0MmI0NGJkMTg1ZDc2YWNjYmM4OGUxNjcpOwogICAgICAgIAogICAgCiAgICAgICAgdmFyIHBvcHVwXzE0NTZhZWQyNzg5ODQ0ZWNiMTA3Y2EyOGJkOGRlYjgwID0gTC5wb3B1cCh7Im1heFdpZHRoIjogIjEwMCUifSk7CgogICAgICAgIAogICAgICAgICAgICB2YXIgaHRtbF9mOTAxZjU1M2QxNDk0NDVhOTVmNWNmMGM4MTJmYzEzYyA9ICQoYDxkaXYgaWQ9Imh0bWxfZjkwMWY1NTNkMTQ5NDQ1YTk1ZjVjZjBjODEyZmMxM2MiIHN0eWxlPSJ3aWR0aDogMTAwLjAlOyBoZWlnaHQ6IDEwMC4wJTsiPk1haW56IChQb3B1bGF0aW9uOiAyMTcxMTgsIFZlbnVlcyBwZXIgUG9wdWxhdGlvbjogMC4wMDA0MzgpPC9kaXY+YClbMF07CiAgICAgICAgICAgIHBvcHVwXzE0NTZhZWQyNzg5ODQ0ZWNiMTA3Y2EyOGJkOGRlYjgwLnNldENvbnRlbnQoaHRtbF9mOTAxZjU1M2QxNDk0NDVhOTVmNWNmMGM4MTJmYzEzYyk7CiAgICAgICAgCgogICAgICAgIGNpcmNsZV9tYXJrZXJfYmNiZWVkNGU0Njk3NDM2Yzg3YThiYTI3NTE2NzNhZWUuYmluZFBvcHVwKHBvcHVwXzE0NTZhZWQyNzg5ODQ0ZWNiMTA3Y2EyOGJkOGRlYjgwKQogICAgICAgIDsKCiAgICAgICAgCiAgICAKICAgIAogICAgICAgICAgICB2YXIgY2lyY2xlX21hcmtlcl9iNGFhZmJkMjAyMGQ0NDQwYThlMzQxNDhiY2Y3MDY2MCA9IEwuY2lyY2xlTWFya2VyKAogICAgICAgICAgICAgICAgWzUxLjQ1MTI4MywgNi42Mjg0M10sCiAgICAgICAgICAgICAgICB7ImJ1YmJsaW5nTW91c2VFdmVudHMiOiB0cnVlLCAiY29sb3IiOiAiYmx1ZSIsICJkYXNoQXJyYXkiOiBudWxsLCAiZGFzaE9mZnNldCI6IG51bGwsICJmaWxsIjogdHJ1ZSwgImZpbGxDb2xvciI6ICIjMzE4NmNjIiwgImZpbGxPcGFjaXR5IjogMC43LCAiZmlsbFJ1bGUiOiAiZXZlbm9kZCIsICJsaW5lQ2FwIjogInJvdW5kIiwgImxpbmVKb2luIjogInJvdW5kIiwgIm9wYWNpdHkiOiAxLjAsICJyYWRpdXMiOiA1LCAic3Ryb2tlIjogdHJ1ZSwgIndlaWdodCI6IDN9CiAgICAgICAgICAgICkuYWRkVG8obWFwX2UwMjE3NWNiNDJiNDRiZDE4NWQ3NmFjY2JjODhlMTY3KTsKICAgICAgICAKICAgIAogICAgICAgIHZhciBwb3B1cF9jM2VlYmY5YmNiMDk0OWUwODFkZDc2MTM0NWU2ODMwYSA9IEwucG9wdXAoeyJtYXhXaWR0aCI6ICIxMDAlIn0pOwoKICAgICAgICAKICAgICAgICAgICAgdmFyIGh0bWxfYjJmNTRkNjRmMDc1NDEzYjgwMmEyZGJmOWQ5NGUyY2UgPSAkKGA8ZGl2IGlkPSJodG1sX2IyZjU0ZDY0ZjA3NTQxM2I4MDJhMmRiZjlkOTRlMmNlIiBzdHlsZT0id2lkdGg6IDEwMC4wJTsgaGVpZ2h0OiAxMDAuMCU7Ij5Nb2VycyAoUG9wdWxhdGlvbjogMTAzNzI1LCBWZW51ZXMgcGVyIFBvcHVsYXRpb246IDAuMDAwNDQzKTwvZGl2PmApWzBdOwogICAgICAgICAgICBwb3B1cF9jM2VlYmY5YmNiMDk0OWUwODFkZDc2MTM0NWU2ODMwYS5zZXRDb250ZW50KGh0bWxfYjJmNTRkNjRmMDc1NDEzYjgwMmEyZGJmOWQ5NGUyY2UpOwogICAgICAgIAoKICAgICAgICBjaXJjbGVfbWFya2VyX2I0YWFmYmQyMDIwZDQ0NDBhOGUzNDE0OGJjZjcwNjYwLmJpbmRQb3B1cChwb3B1cF9jM2VlYmY5YmNiMDk0OWUwODFkZDc2MTM0NWU2ODMwYSkKICAgICAgICA7CgogICAgICAgIAogICAgCiAgICAKICAgICAgICAgICAgdmFyIGNpcmNsZV9tYXJrZXJfMTI1MDU1OWM2MjgyNDJhMDkzYWE3MDg2NTZmMGQ1MzQgPSBMLmNpcmNsZU1hcmtlcigKICAgICAgICAgICAgICAgIFs1MS4xOTgxNzc4LCA2LjY5MTY0NzZdLAogICAgICAgICAgICAgICAgeyJidWJibGluZ01vdXNlRXZlbnRzIjogdHJ1ZSwgImNvbG9yIjogImJsdWUiLCAiZGFzaEFycmF5IjogbnVsbCwgImRhc2hPZmZzZXQiOiBudWxsLCAiZmlsbCI6IHRydWUsICJmaWxsQ29sb3IiOiAiIzMxODZjYyIsICJmaWxsT3BhY2l0eSI6IDAuNywgImZpbGxSdWxlIjogImV2ZW5vZGQiLCAibGluZUNhcCI6ICJyb3VuZCIsICJsaW5lSm9pbiI6ICJyb3VuZCIsICJvcGFjaXR5IjogMS4wLCAicmFkaXVzIjogNSwgInN0cm9rZSI6IHRydWUsICJ3ZWlnaHQiOiAzfQogICAgICAgICAgICApLmFkZFRvKG1hcF9lMDIxNzVjYjQyYjQ0YmQxODVkNzZhY2NiYzg4ZTE2Nyk7CiAgICAgICAgCiAgICAKICAgICAgICB2YXIgcG9wdXBfYmMxYmQ5NzQ3YTc3NGFlMTg1NGIyNjMzNGE0MGM5ZjkgPSBMLnBvcHVwKHsibWF4V2lkdGgiOiAiMTAwJSJ9KTsKCiAgICAgICAgCiAgICAgICAgICAgIHZhciBodG1sXzYzMmNiY2Q1NzI1NzQ4YjU5MGM1MWIyZjA1NTZlYTQzID0gJChgPGRpdiBpZD0iaHRtbF82MzJjYmNkNTcyNTc0OGI1OTBjNTFiMmYwNTU2ZWE0MyIgc3R5bGU9IndpZHRoOiAxMDAuMCU7IGhlaWdodDogMTAwLjAlOyI+TmV1c3MgKFBvcHVsYXRpb246IDE1Mzc5NiwgVmVudWVzIHBlciBQb3B1bGF0aW9uOiAwLjAwMDM3MSk8L2Rpdj5gKVswXTsKICAgICAgICAgICAgcG9wdXBfYmMxYmQ5NzQ3YTc3NGFlMTg1NGIyNjMzNGE0MGM5Zjkuc2V0Q29udGVudChodG1sXzYzMmNiY2Q1NzI1NzQ4YjU5MGM1MWIyZjA1NTZlYTQzKTsKICAgICAgICAKCiAgICAgICAgY2lyY2xlX21hcmtlcl8xMjUwNTU5YzYyODI0MmEwOTNhYTcwODY1NmYwZDUzNC5iaW5kUG9wdXAocG9wdXBfYmMxYmQ5NzQ3YTc3NGFlMTg1NGIyNjMzNGE0MGM5ZjkpCiAgICAgICAgOwoKICAgICAgICAKICAgIAogICAgCiAgICAgICAgICAgIHZhciBjaXJjbGVfbWFya2VyXzc5NmRjMzY4NTFlMDQ4NTI5MWIyMjM2Njg4ZmE2NmUxID0gTC5jaXJjbGVNYXJrZXIoCiAgICAgICAgICAgICAgICBbNTMuMTM4OTc1MywgOC4yMTQ2MDE3XSwKICAgICAgICAgICAgICAgIHsiYnViYmxpbmdNb3VzZUV2ZW50cyI6IHRydWUsICJjb2xvciI6ICJibHVlIiwgImRhc2hBcnJheSI6IG51bGwsICJkYXNoT2Zmc2V0IjogbnVsbCwgImZpbGwiOiB0cnVlLCAiZmlsbENvbG9yIjogIiMzMTg2Y2MiLCAiZmlsbE9wYWNpdHkiOiAwLjcsICJmaWxsUnVsZSI6ICJldmVub2RkIiwgImxpbmVDYXAiOiAicm91bmQiLCAibGluZUpvaW4iOiAicm91bmQiLCAib3BhY2l0eSI6IDEuMCwgInJhZGl1cyI6IDUsICJzdHJva2UiOiB0cnVlLCAid2VpZ2h0IjogM30KICAgICAgICAgICAgKS5hZGRUbyhtYXBfZTAyMTc1Y2I0MmI0NGJkMTg1ZDc2YWNjYmM4OGUxNjcpOwogICAgICAgIAogICAgCiAgICAgICAgdmFyIHBvcHVwXzcxOGMzMWJjOTBmZjQ5NTY4OWE1YzM1ZjJhNWRmNzY4ID0gTC5wb3B1cCh7Im1heFdpZHRoIjogIjEwMCUifSk7CgogICAgICAgIAogICAgICAgICAgICB2YXIgaHRtbF8zMWMwMmY0NmY0NTE0NWNmODZmYzViYmI2YjJmNzcwOCA9ICQoYDxkaXYgaWQ9Imh0bWxfMzFjMDJmNDZmNDUxNDVjZjg2ZmM1YmJiNmIyZjc3MDgiIHN0eWxlPSJ3aWR0aDogMTAwLjAlOyBoZWlnaHQ6IDEwMC4wJTsiPk9sZGVuYnVyZyAoUG9wdWxhdGlvbjogMTY4MjEwLCBWZW51ZXMgcGVyIFBvcHVsYXRpb246IDAuMDAwMzQ1KTwvZGl2PmApWzBdOwogICAgICAgICAgICBwb3B1cF83MThjMzFiYzkwZmY0OTU2ODlhNWMzNWYyYTVkZjc2OC5zZXRDb250ZW50KGh0bWxfMzFjMDJmNDZmNDUxNDVjZjg2ZmM1YmJiNmIyZjc3MDgpOwogICAgICAgIAoKICAgICAgICBjaXJjbGVfbWFya2VyXzc5NmRjMzY4NTFlMDQ4NTI5MWIyMjM2Njg4ZmE2NmUxLmJpbmRQb3B1cChwb3B1cF83MThjMzFiYzkwZmY0OTU2ODlhNWMzNWYyYTVkZjc2OCkKICAgICAgICA7CgogICAgICAgIAogICAgCiAgICAKICAgICAgICAgICAgdmFyIGNpcmNsZV9tYXJrZXJfN2Y1YTBhYTM5MzM2NDlhOTgwMjA1YWEzMTdkNDdmOWQgPSBMLmNpcmNsZU1hcmtlcigKICAgICAgICAgICAgICAgIFs1Mi4yNjY4MzcsIDguMDQ5NzQxXSwKICAgICAgICAgICAgICAgIHsiYnViYmxpbmdNb3VzZUV2ZW50cyI6IHRydWUsICJjb2xvciI6ICJibHVlIiwgImRhc2hBcnJheSI6IG51bGwsICJkYXNoT2Zmc2V0IjogbnVsbCwgImZpbGwiOiB0cnVlLCAiZmlsbENvbG9yIjogIiMzMTg2Y2MiLCAiZmlsbE9wYWNpdHkiOiAwLjcsICJmaWxsUnVsZSI6ICJldmVub2RkIiwgImxpbmVDYXAiOiAicm91bmQiLCAibGluZUpvaW4iOiAicm91bmQiLCAib3BhY2l0eSI6IDEuMCwgInJhZGl1cyI6IDUsICJzdHJva2UiOiB0cnVlLCAid2VpZ2h0IjogM30KICAgICAgICAgICAgKS5hZGRUbyhtYXBfZTAyMTc1Y2I0MmI0NGJkMTg1ZDc2YWNjYmM4OGUxNjcpOwogICAgICAgIAogICAgCiAgICAgICAgdmFyIHBvcHVwXzFlZDcxNjYwYmE0NzRjNGQ5M2U3Yzc2MDc3ZWFiMmMxID0gTC5wb3B1cCh7Im1heFdpZHRoIjogIjEwMCUifSk7CgogICAgICAgIAogICAgICAgICAgICB2YXIgaHRtbF9mZDVkNjU1ZjQ0NTk0NDRmYmZmY2RmYWI1ZmFlMmZkOCA9ICQoYDxkaXYgaWQ9Imh0bWxfZmQ1ZDY1NWY0NDU5NDQ0ZmJmZmNkZmFiNWZhZTJmZDgiIHN0eWxlPSJ3aWR0aDogMTAwLjAlOyBoZWlnaHQ6IDEwMC4wJTsiPk9zbmFicnVlY2sgKFBvcHVsYXRpb246IDE2NDc0OCwgVmVudWVzIHBlciBQb3B1bGF0aW9uOiAwLjAwMDUzNCk8L2Rpdj5gKVswXTsKICAgICAgICAgICAgcG9wdXBfMWVkNzE2NjBiYTQ3NGM0ZDkzZTdjNzYwNzdlYWIyYzEuc2V0Q29udGVudChodG1sX2ZkNWQ2NTVmNDQ1OTQ0NGZiZmZjZGZhYjVmYWUyZmQ4KTsKICAgICAgICAKCiAgICAgICAgY2lyY2xlX21hcmtlcl83ZjVhMGFhMzkzMzY0OWE5ODAyMDVhYTMxN2Q0N2Y5ZC5iaW5kUG9wdXAocG9wdXBfMWVkNzE2NjBiYTQ3NGM0ZDkzZTdjNzYwNzdlYWIyYzEpCiAgICAgICAgOwoKICAgICAgICAKICAgIAogICAgCiAgICAgICAgICAgIHZhciBjaXJjbGVfbWFya2VyXzcyZDU0ZDhlZTBjMTQyMWRiZDRlNTEzOTRmMjM4NDFkID0gTC5jaXJjbGVNYXJrZXIoCiAgICAgICAgICAgICAgICBbNTEuNzE4OTU5NTUsIDguNzY0ODY5Nzc4MTc3NTU5XSwKICAgICAgICAgICAgICAgIHsiYnViYmxpbmdNb3VzZUV2ZW50cyI6IHRydWUsICJjb2xvciI6ICJibHVlIiwgImRhc2hBcnJheSI6IG51bGwsICJkYXNoT2Zmc2V0IjogbnVsbCwgImZpbGwiOiB0cnVlLCAiZmlsbENvbG9yIjogIiMzMTg2Y2MiLCAiZmlsbE9wYWNpdHkiOiAwLjcsICJmaWxsUnVsZSI6ICJldmVub2RkIiwgImxpbmVDYXAiOiAicm91bmQiLCAibGluZUpvaW4iOiAicm91bmQiLCAib3BhY2l0eSI6IDEuMCwgInJhZGl1cyI6IDUsICJzdHJva2UiOiB0cnVlLCAid2VpZ2h0IjogM30KICAgICAgICAgICAgKS5hZGRUbyhtYXBfZTAyMTc1Y2I0MmI0NGJkMTg1ZDc2YWNjYmM4OGUxNjcpOwogICAgICAgIAogICAgCiAgICAgICAgdmFyIHBvcHVwXzZkYjAxOTc4Nzc0YzRmODk5MmNmZTNlMWEyZjJiMDhjID0gTC5wb3B1cCh7Im1heFdpZHRoIjogIjEwMCUifSk7CgogICAgICAgIAogICAgICAgICAgICB2YXIgaHRtbF84ZTk3Y2FmYjJhZjE0Mzg2OTk1NDA4MzA1YmIxNzQ0NSA9ICQoYDxkaXYgaWQ9Imh0bWxfOGU5N2NhZmIyYWYxNDM4Njk5NTQwODMwNWJiMTc0NDUiIHN0eWxlPSJ3aWR0aDogMTAwLjAlOyBoZWlnaHQ6IDEwMC4wJTsiPlBhZGVyYm9ybiAoUG9wdWxhdGlvbjogMTUwNTgwLCBWZW51ZXMgcGVyIFBvcHVsYXRpb246IDAuMDAwNTcxKTwvZGl2PmApWzBdOwogICAgICAgICAgICBwb3B1cF82ZGIwMTk3ODc3NGM0Zjg5OTJjZmUzZTFhMmYyYjA4Yy5zZXRDb250ZW50KGh0bWxfOGU5N2NhZmIyYWYxNDM4Njk5NTQwODMwNWJiMTc0NDUpOwogICAgICAgIAoKICAgICAgICBjaXJjbGVfbWFya2VyXzcyZDU0ZDhlZTBjMTQyMWRiZDRlNTEzOTRmMjM4NDFkLmJpbmRQb3B1cChwb3B1cF82ZGIwMTk3ODc3NGM0Zjg5OTJjZmUzZTFhMmYyYjA4YykKICAgICAgICA7CgogICAgICAgIAogICAgCiAgICAKICAgICAgICAgICAgdmFyIGNpcmNsZV9tYXJrZXJfMDAwNGJjMDkwOGU4NDQ1NjlkY2VhZmZhZGY1ZDYyZmEgPSBMLmNpcmNsZU1hcmtlcigKICAgICAgICAgICAgICAgIFs0OC44OTA4ODQ2LCA4LjcwMjk1MzJdLAogICAgICAgICAgICAgICAgeyJidWJibGluZ01vdXNlRXZlbnRzIjogdHJ1ZSwgImNvbG9yIjogImJsdWUiLCAiZGFzaEFycmF5IjogbnVsbCwgImRhc2hPZmZzZXQiOiBudWxsLCAiZmlsbCI6IHRydWUsICJmaWxsQ29sb3IiOiAiIzMxODZjYyIsICJmaWxsT3BhY2l0eSI6IDAuNywgImZpbGxSdWxlIjogImV2ZW5vZGQiLCAibGluZUNhcCI6ICJyb3VuZCIsICJsaW5lSm9pbiI6ICJyb3VuZCIsICJvcGFjaXR5IjogMS4wLCAicmFkaXVzIjogNSwgInN0cm9rZSI6IHRydWUsICJ3ZWlnaHQiOiAzfQogICAgICAgICAgICApLmFkZFRvKG1hcF9lMDIxNzVjYjQyYjQ0YmQxODVkNzZhY2NiYzg4ZTE2Nyk7CiAgICAgICAgCiAgICAKICAgICAgICB2YXIgcG9wdXBfYmRhMmNiZDhhNDI0NGE0OGJmMGFlNThkMDEzMTkyZTEgPSBMLnBvcHVwKHsibWF4V2lkdGgiOiAiMTAwJSJ9KTsKCiAgICAgICAgCiAgICAgICAgICAgIHZhciBodG1sX2M5MDExYTdmZDU1MjRmNmU4YmI1ODY3Y2E5Njk1YjQxID0gJChgPGRpdiBpZD0iaHRtbF9jOTAxMWE3ZmQ1NTI0ZjZlOGJiNTg2N2NhOTY5NWI0MSIgc3R5bGU9IndpZHRoOiAxMDAuMCU7IGhlaWdodDogMTAwLjAlOyI+UGZvcnpoZWltIChQb3B1bGF0aW9uOiAxMjU1NDIsIFZlbnVlcyBwZXIgUG9wdWxhdGlvbjogMC4wMDA2NjEpPC9kaXY+YClbMF07CiAgICAgICAgICAgIHBvcHVwX2JkYTJjYmQ4YTQyNDRhNDhiZjBhZTU4ZDAxMzE5MmUxLnNldENvbnRlbnQoaHRtbF9jOTAxMWE3ZmQ1NTI0ZjZlOGJiNTg2N2NhOTY5NWI0MSk7CiAgICAgICAgCgogICAgICAgIGNpcmNsZV9tYXJrZXJfMDAwNGJjMDkwOGU4NDQ1NjlkY2VhZmZhZGY1ZDYyZmEuYmluZFBvcHVwKHBvcHVwX2JkYTJjYmQ4YTQyNDRhNDhiZjBhZTU4ZDAxMzE5MmUxKQogICAgICAgIDsKCiAgICAgICAgCiAgICAKICAgIAogICAgICAgICAgICB2YXIgY2lyY2xlX21hcmtlcl83OGIzYmEwOTM5MzU0ZjY5OTE4MzcwY2RjMjJmYjk1YSA9IEwuY2lyY2xlTWFya2VyKAogICAgICAgICAgICAgICAgWzUxLjYxNDM4MTUsIDcuMTk3ODU0Nl0sCiAgICAgICAgICAgICAgICB7ImJ1YmJsaW5nTW91c2VFdmVudHMiOiB0cnVlLCAiY29sb3IiOiAiYmx1ZSIsICJkYXNoQXJyYXkiOiBudWxsLCAiZGFzaE9mZnNldCI6IG51bGwsICJmaWxsIjogdHJ1ZSwgImZpbGxDb2xvciI6ICIjMzE4NmNjIiwgImZpbGxPcGFjaXR5IjogMC43LCAiZmlsbFJ1bGUiOiAiZXZlbm9kZCIsICJsaW5lQ2FwIjogInJvdW5kIiwgImxpbmVKb2luIjogInJvdW5kIiwgIm9wYWNpdHkiOiAxLjAsICJyYWRpdXMiOiA1LCAic3Ryb2tlIjogdHJ1ZSwgIndlaWdodCI6IDN9CiAgICAgICAgICAgICkuYWRkVG8obWFwX2UwMjE3NWNiNDJiNDRiZDE4NWQ3NmFjY2JjODhlMTY3KTsKICAgICAgICAKICAgIAogICAgICAgIHZhciBwb3B1cF9lNmMzNmY0ZDE5OGI0NDhlODM0ZTZmY2VmNzJjNjAwYSA9IEwucG9wdXAoeyJtYXhXaWR0aCI6ICIxMDAlIn0pOwoKICAgICAgICAKICAgICAgICAgICAgdmFyIGh0bWxfNjMyNjIwODVmYWFhNGMxZGJhNDM1ZmY1OWE2NzdmYzUgPSAkKGA8ZGl2IGlkPSJodG1sXzYzMjYyMDg1ZmFhYTRjMWRiYTQzNWZmNTlhNjc3ZmM1IiBzdHlsZT0id2lkdGg6IDEwMC4wJTsgaGVpZ2h0OiAxMDAuMCU7Ij5SZWNrbGluZ2hhdXNlbiAoUG9wdWxhdGlvbjogMTEyMjY3LCBWZW51ZXMgcGVyIFBvcHVsYXRpb246IDAuMDAwNTI2KTwvZGl2PmApWzBdOwogICAgICAgICAgICBwb3B1cF9lNmMzNmY0ZDE5OGI0NDhlODM0ZTZmY2VmNzJjNjAwYS5zZXRDb250ZW50KGh0bWxfNjMyNjIwODVmYWFhNGMxZGJhNDM1ZmY1OWE2NzdmYzUpOwogICAgICAgIAoKICAgICAgICBjaXJjbGVfbWFya2VyXzc4YjNiYTA5MzkzNTRmNjk5MTgzNzBjZGMyMmZiOTVhLmJpbmRQb3B1cChwb3B1cF9lNmMzNmY0ZDE5OGI0NDhlODM0ZTZmY2VmNzJjNjAwYSkKICAgICAgICA7CgogICAgICAgIAogICAgCiAgICAKICAgICAgICAgICAgdmFyIGNpcmNsZV9tYXJrZXJfNjZjMmQyMThkNjFhNDU2ZGE4ODg1ODU3MmE3MDg2ZjYgPSBMLmNpcmNsZU1hcmtlcigKICAgICAgICAgICAgICAgIFs0OS4wMTk1MzMzLCAxMi4wOTc0ODY5XSwKICAgICAgICAgICAgICAgIHsiYnViYmxpbmdNb3VzZUV2ZW50cyI6IHRydWUsICJjb2xvciI6ICJibHVlIiwgImRhc2hBcnJheSI6IG51bGwsICJkYXNoT2Zmc2V0IjogbnVsbCwgImZpbGwiOiB0cnVlLCAiZmlsbENvbG9yIjogIiMzMTg2Y2MiLCAiZmlsbE9wYWNpdHkiOiAwLjcsICJmaWxsUnVsZSI6ICJldmVub2RkIiwgImxpbmVDYXAiOiAicm91bmQiLCAibGluZUpvaW4iOiAicm91bmQiLCAib3BhY2l0eSI6IDEuMCwgInJhZGl1cyI6IDUsICJzdHJva2UiOiB0cnVlLCAid2VpZ2h0IjogM30KICAgICAgICAgICAgKS5hZGRUbyhtYXBfZTAyMTc1Y2I0MmI0NGJkMTg1ZDc2YWNjYmM4OGUxNjcpOwogICAgICAgIAogICAgCiAgICAgICAgdmFyIHBvcHVwXzQzNzY2OGRhYTU4ODRmZTU5ZGZiZDJlMjcxYTc3N2Y0ID0gTC5wb3B1cCh7Im1heFdpZHRoIjogIjEwMCUifSk7CgogICAgICAgIAogICAgICAgICAgICB2YXIgaHRtbF9hZDlkNmZhZjE5ZmE0MjVlYWIwYTM0NjUyY2I5YmY2MiA9ICQoYDxkaXYgaWQ9Imh0bWxfYWQ5ZDZmYWYxOWZhNDI1ZWFiMGEzNDY1MmNiOWJmNjIiIHN0eWxlPSJ3aWR0aDogMTAwLjAlOyBoZWlnaHQ6IDEwMC4wJTsiPlJlZ2Vuc2J1cmcgKFBvcHVsYXRpb246IDE1MjYxMCwgVmVudWVzIHBlciBQb3B1bGF0aW9uOiAwLjAwMDQxMyk8L2Rpdj5gKVswXTsKICAgICAgICAgICAgcG9wdXBfNDM3NjY4ZGFhNTg4NGZlNTlkZmJkMmUyNzFhNzc3ZjQuc2V0Q29udGVudChodG1sX2FkOWQ2ZmFmMTlmYTQyNWVhYjBhMzQ2NTJjYjliZjYyKTsKICAgICAgICAKCiAgICAgICAgY2lyY2xlX21hcmtlcl82NmMyZDIxOGQ2MWE0NTZkYTg4ODU4NTcyYTcwODZmNi5iaW5kUG9wdXAocG9wdXBfNDM3NjY4ZGFhNTg4NGZlNTlkZmJkMmUyNzFhNzc3ZjQpCiAgICAgICAgOwoKICAgICAgICAKICAgIAogICAgCiAgICAgICAgICAgIHZhciBjaXJjbGVfbWFya2VyX2Q4N2U4ZTJiODJmNzQ0YzNiZWE4ZWE2YTY4NThhM2Y2ID0gTC5jaXJjbGVNYXJrZXIoCiAgICAgICAgICAgICAgICBbNTEuMTc5ODcwNiwgNy4xOTQzNTQ0XSwKICAgICAgICAgICAgICAgIHsiYnViYmxpbmdNb3VzZUV2ZW50cyI6IHRydWUsICJjb2xvciI6ICJibHVlIiwgImRhc2hBcnJheSI6IG51bGwsICJkYXNoT2Zmc2V0IjogbnVsbCwgImZpbGwiOiB0cnVlLCAiZmlsbENvbG9yIjogIiMzMTg2Y2MiLCAiZmlsbE9wYWNpdHkiOiAwLjcsICJmaWxsUnVsZSI6ICJldmVub2RkIiwgImxpbmVDYXAiOiAicm91bmQiLCAibGluZUpvaW4iOiAicm91bmQiLCAib3BhY2l0eSI6IDEuMCwgInJhZGl1cyI6IDUsICJzdHJva2UiOiB0cnVlLCAid2VpZ2h0IjogM30KICAgICAgICAgICAgKS5hZGRUbyhtYXBfZTAyMTc1Y2I0MmI0NGJkMTg1ZDc2YWNjYmM4OGUxNjcpOwogICAgICAgIAogICAgCiAgICAgICAgdmFyIHBvcHVwXzQyOTg1ZmE5ZDliMTRmNzk4MzJjODk2MjFkNmYxMTgxID0gTC5wb3B1cCh7Im1heFdpZHRoIjogIjEwMCUifSk7CgogICAgICAgIAogICAgICAgICAgICB2YXIgaHRtbF9hZjM4ODUyMDAzYzU0NmJhOWIzYWNkMTQ5Y2EzYTdiZSA9ICQoYDxkaXYgaWQ9Imh0bWxfYWYzODg1MjAwM2M1NDZiYTliM2FjZDE0OWNhM2E3YmUiIHN0eWxlPSJ3aWR0aDogMTAwLjAlOyBoZWlnaHQ6IDEwMC4wJTsiPlJlbXNjaGVpZCAoUG9wdWxhdGlvbjogMTEwOTk0LCBWZW51ZXMgcGVyIFBvcHVsYXRpb246IDAuMDAwMjUyKTwvZGl2PmApWzBdOwogICAgICAgICAgICBwb3B1cF80Mjk4NWZhOWQ5YjE0Zjc5ODMyYzg5NjIxZDZmMTE4MS5zZXRDb250ZW50KGh0bWxfYWYzODg1MjAwM2M1NDZiYTliM2FjZDE0OWNhM2E3YmUpOwogICAgICAgIAoKICAgICAgICBjaXJjbGVfbWFya2VyX2Q4N2U4ZTJiODJmNzQ0YzNiZWE4ZWE2YTY4NThhM2Y2LmJpbmRQb3B1cChwb3B1cF80Mjk4NWZhOWQ5YjE0Zjc5ODMyYzg5NjIxZDZmMTE4MSkKICAgICAgICA7CgogICAgICAgIAogICAgCiAgICAKICAgICAgICAgICAgdmFyIGNpcmNsZV9tYXJrZXJfNzM3YjY2MmU4YmVhNDMxZDg3NzAxNjBjNTc3ZTEwNTcgPSBMLmNpcmNsZU1hcmtlcigKICAgICAgICAgICAgICAgIFs0OC40OTE5NTA4LCA5LjIxMTQxNDRdLAogICAgICAgICAgICAgICAgeyJidWJibGluZ01vdXNlRXZlbnRzIjogdHJ1ZSwgImNvbG9yIjogImJsdWUiLCAiZGFzaEFycmF5IjogbnVsbCwgImRhc2hPZmZzZXQiOiBudWxsLCAiZmlsbCI6IHRydWUsICJmaWxsQ29sb3IiOiAiIzMxODZjYyIsICJmaWxsT3BhY2l0eSI6IDAuNywgImZpbGxSdWxlIjogImV2ZW5vZGQiLCAibGluZUNhcCI6ICJyb3VuZCIsICJsaW5lSm9pbiI6ICJyb3VuZCIsICJvcGFjaXR5IjogMS4wLCAicmFkaXVzIjogNSwgInN0cm9rZSI6IHRydWUsICJ3ZWlnaHQiOiAzfQogICAgICAgICAgICApLmFkZFRvKG1hcF9lMDIxNzVjYjQyYjQ0YmQxODVkNzZhY2NiYzg4ZTE2Nyk7CiAgICAgICAgCiAgICAKICAgICAgICB2YXIgcG9wdXBfMDA2YTFmODliMmQzNGMwYTlhODZhMjQ0MmM2ZDQzYTUgPSBMLnBvcHVwKHsibWF4V2lkdGgiOiAiMTAwJSJ9KTsKCiAgICAgICAgCiAgICAgICAgICAgIHZhciBodG1sXzA3ZWQ0OTg5ZjU1ZjRiMzI4Mzk2MDcwNGE5MWIxMWI4ID0gJChgPGRpdiBpZD0iaHRtbF8wN2VkNDk4OWY1NWY0YjMyODM5NjA3MDRhOTFiMTFiOCIgc3R5bGU9IndpZHRoOiAxMDAuMCU7IGhlaWdodDogMTAwLjAlOyI+UmV1dGxpbmdlbiAoUG9wdWxhdGlvbjogMTE1OTY2LCBWZW51ZXMgcGVyIFBvcHVsYXRpb246IDAuMDAwNTE3KTwvZGl2PmApWzBdOwogICAgICAgICAgICBwb3B1cF8wMDZhMWY4OWIyZDM0YzBhOWE4NmEyNDQyYzZkNDNhNS5zZXRDb250ZW50KGh0bWxfMDdlZDQ5ODlmNTVmNGIzMjgzOTYwNzA0YTkxYjExYjgpOwogICAgICAgIAoKICAgICAgICBjaXJjbGVfbWFya2VyXzczN2I2NjJlOGJlYTQzMWQ4NzcwMTYwYzU3N2UxMDU3LmJpbmRQb3B1cChwb3B1cF8wMDZhMWY4OWIyZDM0YzBhOWE4NmEyNDQyYzZkNDNhNSkKICAgICAgICA7CgogICAgICAgIAogICAgCiAgICAKICAgICAgICAgICAgdmFyIGNpcmNsZV9tYXJrZXJfOWMzMzJmMWUzNGIxNGEzZWE0Y2FkNDRmZTQ0NzFmZTggPSBMLmNpcmNsZU1hcmtlcigKICAgICAgICAgICAgICAgIFs1Mi4xNTAzNzIxLCAxMC4zNTkzMTQ3XSwKICAgICAgICAgICAgICAgIHsiYnViYmxpbmdNb3VzZUV2ZW50cyI6IHRydWUsICJjb2xvciI6ICJibHVlIiwgImRhc2hBcnJheSI6IG51bGwsICJkYXNoT2Zmc2V0IjogbnVsbCwgImZpbGwiOiB0cnVlLCAiZmlsbENvbG9yIjogIiMzMTg2Y2MiLCAiZmlsbE9wYWNpdHkiOiAwLjcsICJmaWxsUnVsZSI6ICJldmVub2RkIiwgImxpbmVDYXAiOiAicm91bmQiLCAibGluZUpvaW4iOiAicm91bmQiLCAib3BhY2l0eSI6IDEuMCwgInJhZGl1cyI6IDUsICJzdHJva2UiOiB0cnVlLCAid2VpZ2h0IjogM30KICAgICAgICAgICAgKS5hZGRUbyhtYXBfZTAyMTc1Y2I0MmI0NGJkMTg1ZDc2YWNjYmM4OGUxNjcpOwogICAgICAgIAogICAgCiAgICAgICAgdmFyIHBvcHVwXzNkODUzOGIxMDMxZDQwNzI5OTIyODRhZDQwOWZiOWIzID0gTC5wb3B1cCh7Im1heFdpZHRoIjogIjEwMCUifSk7CgogICAgICAgIAogICAgICAgICAgICB2YXIgaHRtbF84NzJhMmI4NGViYjU0YWZiOTJlNjI5YzRjZGY1MjA2ZCA9ICQoYDxkaXYgaWQ9Imh0bWxfODcyYTJiODRlYmI1NGFmYjkyZTYyOWM0Y2RmNTIwNmQiIHN0eWxlPSJ3aWR0aDogMTAwLjAlOyBoZWlnaHQ6IDEwMC4wJTsiPlNhbHpnaXR0ZXIgKFBvcHVsYXRpb246IDEwNDk0OCwgVmVudWVzIHBlciBQb3B1bGF0aW9uOiAwLjAwMDE1Mik8L2Rpdj5gKVswXTsKICAgICAgICAgICAgcG9wdXBfM2Q4NTM4YjEwMzFkNDA3Mjk5MjI4NGFkNDA5ZmI5YjMuc2V0Q29udGVudChodG1sXzg3MmEyYjg0ZWJiNTRhZmI5MmU2MjljNGNkZjUyMDZkKTsKICAgICAgICAKCiAgICAgICAgY2lyY2xlX21hcmtlcl85YzMzMmYxZTM0YjE0YTNlYTRjYWQ0NGZlNDQ3MWZlOC5iaW5kUG9wdXAocG9wdXBfM2Q4NTM4YjEwMzFkNDA3Mjk5MjI4NGFkNDA5ZmI5YjMpCiAgICAgICAgOwoKICAgICAgICAKICAgIAogICAgCiAgICAgICAgICAgIHZhciBjaXJjbGVfbWFya2VyXzRmOTRhMDM3ODUzMDQxYjk5ZGY5NDM4ZmFkM2M1NDAxID0gTC5jaXJjbGVNYXJrZXIoCiAgICAgICAgICAgICAgICBbNTAuODc0OTgwNCwgOC4wMjI3MjMzXSwKICAgICAgICAgICAgICAgIHsiYnViYmxpbmdNb3VzZUV2ZW50cyI6IHRydWUsICJjb2xvciI6ICJibHVlIiwgImRhc2hBcnJheSI6IG51bGwsICJkYXNoT2Zmc2V0IjogbnVsbCwgImZpbGwiOiB0cnVlLCAiZmlsbENvbG9yIjogIiMzMTg2Y2MiLCAiZmlsbE9wYWNpdHkiOiAwLjcsICJmaWxsUnVsZSI6ICJldmVub2RkIiwgImxpbmVDYXAiOiAicm91bmQiLCAibGluZUpvaW4iOiAicm91bmQiLCAib3BhY2l0eSI6IDEuMCwgInJhZGl1cyI6IDUsICJzdHJva2UiOiB0cnVlLCAid2VpZ2h0IjogM30KICAgICAgICAgICAgKS5hZGRUbyhtYXBfZTAyMTc1Y2I0MmI0NGJkMTg1ZDc2YWNjYmM4OGUxNjcpOwogICAgICAgIAogICAgCiAgICAgICAgdmFyIHBvcHVwXzNlNDNlZjliYjA4ZjQzMjE5OTBmNDczMjZkMGY3NGYyID0gTC5wb3B1cCh7Im1heFdpZHRoIjogIjEwMCUifSk7CgogICAgICAgIAogICAgICAgICAgICB2YXIgaHRtbF8wMmQ0ZGY0OGI0ZWI0ZDdkYmI1YzI4Y2QyZGI5Y2E4OCA9ICQoYDxkaXYgaWQ9Imh0bWxfMDJkNGRmNDhiNGViNGQ3ZGJiNWMyOGNkMmRiOWNhODgiIHN0eWxlPSJ3aWR0aDogMTAwLjAlOyBoZWlnaHQ6IDEwMC4wJTsiPlNpZWdlbiAoUG9wdWxhdGlvbjogMTAyODM2LCBWZW51ZXMgcGVyIFBvcHVsYXRpb246IDAuMDAwNTc0KTwvZGl2PmApWzBdOwogICAgICAgICAgICBwb3B1cF8zZTQzZWY5YmIwOGY0MzIxOTkwZjQ3MzI2ZDBmNzRmMi5zZXRDb250ZW50KGh0bWxfMDJkNGRmNDhiNGViNGQ3ZGJiNWMyOGNkMmRiOWNhODgpOwogICAgICAgIAoKICAgICAgICBjaXJjbGVfbWFya2VyXzRmOTRhMDM3ODUzMDQxYjk5ZGY5NDM4ZmFkM2M1NDAxLmJpbmRQb3B1cChwb3B1cF8zZTQzZWY5YmIwOGY0MzIxOTkwZjQ3MzI2ZDBmNzRmMikKICAgICAgICA7CgogICAgICAgIAogICAgCiAgICAKICAgICAgICAgICAgdmFyIGNpcmNsZV9tYXJrZXJfN2FiNTg4OTAzZmQyNDRmM2E1NTYxOTNhNjU5YmE5YTAgPSBMLmNpcmNsZU1hcmtlcigKICAgICAgICAgICAgICAgIFs1MS4xNzEyNDY4LCA3LjA4Mzg5OTZdLAogICAgICAgICAgICAgICAgeyJidWJibGluZ01vdXNlRXZlbnRzIjogdHJ1ZSwgImNvbG9yIjogImJsdWUiLCAiZGFzaEFycmF5IjogbnVsbCwgImRhc2hPZmZzZXQiOiBudWxsLCAiZmlsbCI6IHRydWUsICJmaWxsQ29sb3IiOiAiIzMxODZjYyIsICJmaWxsT3BhY2l0eSI6IDAuNywgImZpbGxSdWxlIjogImV2ZW5vZGQiLCAibGluZUNhcCI6ICJyb3VuZCIsICJsaW5lSm9pbiI6ICJyb3VuZCIsICJvcGFjaXR5IjogMS4wLCAicmFkaXVzIjogNSwgInN0cm9rZSI6IHRydWUsICJ3ZWlnaHQiOiAzfQogICAgICAgICAgICApLmFkZFRvKG1hcF9lMDIxNzVjYjQyYjQ0YmQxODVkNzZhY2NiYzg4ZTE2Nyk7CiAgICAgICAgCiAgICAKICAgICAgICB2YXIgcG9wdXBfYjUzZGY3YzlkNjcyNGYyMmI4YWI1ZGE1ZGUzNzY0OGQgPSBMLnBvcHVwKHsibWF4V2lkdGgiOiAiMTAwJSJ9KTsKCiAgICAgICAgCiAgICAgICAgICAgIHZhciBodG1sXzRjMTkzZmZjMjBmMzQyOTNhNDVlMDk2ODI3OGU4MDFiID0gJChgPGRpdiBpZD0iaHRtbF80YzE5M2ZmYzIwZjM0MjkzYTQ1ZTA5NjgyNzhlODAxYiIgc3R5bGU9IndpZHRoOiAxMDAuMCU7IGhlaWdodDogMTAwLjAlOyI+U29saW5nZW4gKFBvcHVsYXRpb246IDE1OTM2MCwgVmVudWVzIHBlciBQb3B1bGF0aW9uOiAwLjAwMDM1MSk8L2Rpdj5gKVswXTsKICAgICAgICAgICAgcG9wdXBfYjUzZGY3YzlkNjcyNGYyMmI4YWI1ZGE1ZGUzNzY0OGQuc2V0Q29udGVudChodG1sXzRjMTkzZmZjMjBmMzQyOTNhNDVlMDk2ODI3OGU4MDFiKTsKICAgICAgICAKCiAgICAgICAgY2lyY2xlX21hcmtlcl83YWI1ODg5MDNmZDI0NGYzYTU1NjE5M2E2NTliYTlhMC5iaW5kUG9wdXAocG9wdXBfYjUzZGY3YzlkNjcyNGYyMmI4YWI1ZGE1ZGUzNzY0OGQpCiAgICAgICAgOwoKICAgICAgICAKICAgIAogICAgCiAgICAgICAgICAgIHZhciBjaXJjbGVfbWFya2VyXzkyNjUzMjZiNGYxOTRiY2Y4ODY4ZTZkYzIxYWZmZWYwID0gTC5jaXJjbGVNYXJrZXIoCiAgICAgICAgICAgICAgICBbNDkuNzU5NjIwOCwgNi42NDQxODc4XSwKICAgICAgICAgICAgICAgIHsiYnViYmxpbmdNb3VzZUV2ZW50cyI6IHRydWUsICJjb2xvciI6ICJibHVlIiwgImRhc2hBcnJheSI6IG51bGwsICJkYXNoT2Zmc2V0IjogbnVsbCwgImZpbGwiOiB0cnVlLCAiZmlsbENvbG9yIjogIiMzMTg2Y2MiLCAiZmlsbE9wYWNpdHkiOiAwLjcsICJmaWxsUnVsZSI6ICJldmVub2RkIiwgImxpbmVDYXAiOiAicm91bmQiLCAibGluZUpvaW4iOiAicm91bmQiLCAib3BhY2l0eSI6IDEuMCwgInJhZGl1cyI6IDUsICJzdHJva2UiOiB0cnVlLCAid2VpZ2h0IjogM30KICAgICAgICAgICAgKS5hZGRUbyhtYXBfZTAyMTc1Y2I0MmI0NGJkMTg1ZDc2YWNjYmM4OGUxNjcpOwogICAgICAgIAogICAgCiAgICAgICAgdmFyIHBvcHVwXzUzMzJjNzdjYmU2ODRiNTBhNGNjNWMxNmMwNDNiYjAwID0gTC5wb3B1cCh7Im1heFdpZHRoIjogIjEwMCUifSk7CgogICAgICAgIAogICAgICAgICAgICB2YXIgaHRtbF9lYmRjZDRiZmEwNTQ0ZDY1YmRlYjNkNDM3OTAwY2Y0NiA9ICQoYDxkaXYgaWQ9Imh0bWxfZWJkY2Q0YmZhMDU0NGQ2NWJkZWIzZDQzNzkwMGNmNDYiIHN0eWxlPSJ3aWR0aDogMTAwLjAlOyBoZWlnaHQ6IDEwMC4wJTsiPlRyaWVyIChQb3B1bGF0aW9uOiAxMTA2MzYsIFZlbnVlcyBwZXIgUG9wdWxhdGlvbjogMC4wMDA4MDQpPC9kaXY+YClbMF07CiAgICAgICAgICAgIHBvcHVwXzUzMzJjNzdjYmU2ODRiNTBhNGNjNWMxNmMwNDNiYjAwLnNldENvbnRlbnQoaHRtbF9lYmRjZDRiZmEwNTQ0ZDY1YmRlYjNkNDM3OTAwY2Y0Nik7CiAgICAgICAgCgogICAgICAgIGNpcmNsZV9tYXJrZXJfOTI2NTMyNmI0ZjE5NGJjZjg4NjhlNmRjMjFhZmZlZjAuYmluZFBvcHVwKHBvcHVwXzUzMzJjNzdjYmU2ODRiNTBhNGNjNWMxNmMwNDNiYjAwKQogICAgICAgIDsKCiAgICAgICAgCiAgICAKICAgIAogICAgICAgICAgICB2YXIgY2lyY2xlX21hcmtlcl8zY2U3NGQ2NGJjMjU0MTcxYmEyNmJlOTc3NTdiOWI2YyA9IEwuY2lyY2xlTWFya2VyKAogICAgICAgICAgICAgICAgWzUyLjQyMDU1ODgsIDEwLjc4NjE2ODJdLAogICAgICAgICAgICAgICAgeyJidWJibGluZ01vdXNlRXZlbnRzIjogdHJ1ZSwgImNvbG9yIjogImJsdWUiLCAiZGFzaEFycmF5IjogbnVsbCwgImRhc2hPZmZzZXQiOiBudWxsLCAiZmlsbCI6IHRydWUsICJmaWxsQ29sb3IiOiAiIzMxODZjYyIsICJmaWxsT3BhY2l0eSI6IDAuNywgImZpbGxSdWxlIjogImV2ZW5vZGQiLCAibGluZUNhcCI6ICJyb3VuZCIsICJsaW5lSm9pbiI6ICJyb3VuZCIsICJvcGFjaXR5IjogMS4wLCAicmFkaXVzIjogNSwgInN0cm9rZSI6IHRydWUsICJ3ZWlnaHQiOiAzfQogICAgICAgICAgICApLmFkZFRvKG1hcF9lMDIxNzVjYjQyYjQ0YmQxODVkNzZhY2NiYzg4ZTE2Nyk7CiAgICAgICAgCiAgICAKICAgICAgICB2YXIgcG9wdXBfOWJiOThhNzFmYTE2NDFjNWIxYTJkZjNkMTllNDUzZWUgPSBMLnBvcHVwKHsibWF4V2lkdGgiOiAiMTAwJSJ9KTsKCiAgICAgICAgCiAgICAgICAgICAgIHZhciBodG1sXzlhZjNiNzk4N2MwMzRlNDg4MDQ2ZTk2NjAzNTljNzUwID0gJChgPGRpdiBpZD0iaHRtbF85YWYzYjc5ODdjMDM0ZTQ4ODA0NmU5NjYwMzU5Yzc1MCIgc3R5bGU9IndpZHRoOiAxMDAuMCU7IGhlaWdodDogMTAwLjAlOyI+V29sZnNidXJnIChQb3B1bGF0aW9uOiAxMjQxNTEsIFZlbnVlcyBwZXIgUG9wdWxhdGlvbjogMC4wMDA0NTEpPC9kaXY+YClbMF07CiAgICAgICAgICAgIHBvcHVwXzliYjk4YTcxZmExNjQxYzViMWEyZGYzZDE5ZTQ1M2VlLnNldENvbnRlbnQoaHRtbF85YWYzYjc5ODdjMDM0ZTQ4ODA0NmU5NjYwMzU5Yzc1MCk7CiAgICAgICAgCgogICAgICAgIGNpcmNsZV9tYXJrZXJfM2NlNzRkNjRiYzI1NDE3MWJhMjZiZTk3NzU3YjliNmMuYmluZFBvcHVwKHBvcHVwXzliYjk4YTcxZmExNjQxYzViMWEyZGYzZDE5ZTQ1M2VlKQogICAgICAgIDsKCiAgICAgICAgCiAgICAKPC9zY3JpcHQ+ onload=\"this.contentDocument.open();this.contentDocument.write(atob(this.getAttribute('data-html')));this.contentDocument.close();\" allowfullscreen webkitallowfullscreen mozallowfullscreen></iframe></div></div>"
      ],
      "text/plain": [
       "<folium.folium.Map at 0x7f91f5b85ed0>"
      ]
     },
     "execution_count": 19,
     "metadata": {},
     "output_type": "execute_result"
    }
   ],
   "source": [
    "# creating the map\n",
    "map_gercities_venues_count_low = folium.Map(location=[51.351, 10.454], zoom_start=5.5)\n",
    "\n",
    "# add markers of citis to map\n",
    "for lat, lng, city, pop, vperpop in zip(gercities_venues_count_low['Latitude'], gercities_venues_count_low['Longitude'], gercities_venues_count_low['City'], gercities_venues_count_low['Population'], gercities_venues_count_low['Venues per Population']):\n",
    "    label = '{} (Population: {}, Venues per Population: {})'.format(city, pop, vperpop)\n",
    "    label = folium.Popup(label, parse_html=True)\n",
    "    folium.CircleMarker(\n",
    "        [lat, lng],\n",
    "        radius=5,\n",
    "        popup=label,\n",
    "        color='blue',\n",
    "        fill=True,\n",
    "        fill_color='#3186cc',\n",
    "        fill_opacity=0.7,\n",
    "        parse_html=False).add_to(map_gercities_venues_count_low)\n",
    "\n",
    "map_gercities_venues_count_low"
   ]
  },
  {
   "cell_type": "markdown",
   "metadata": {},
   "source": [
    "**Creating the dataframe for these selected cities that will be used for our machine learning algorithms.**"
   ]
  },
  {
   "cell_type": "code",
   "execution_count": 20,
   "metadata": {},
   "outputs": [
    {
     "data": {
      "text/html": [
       "<div>\n",
       "<style scoped>\n",
       "    .dataframe tbody tr th:only-of-type {\n",
       "        vertical-align: middle;\n",
       "    }\n",
       "\n",
       "    .dataframe tbody tr th {\n",
       "        vertical-align: top;\n",
       "    }\n",
       "\n",
       "    .dataframe thead th {\n",
       "        text-align: right;\n",
       "    }\n",
       "</style>\n",
       "<table border=\"1\" class=\"dataframe\">\n",
       "  <thead>\n",
       "    <tr style=\"text-align: right;\">\n",
       "      <th></th>\n",
       "      <th>City</th>\n",
       "      <th>Venues</th>\n",
       "      <th>Population</th>\n",
       "      <th>Latitude</th>\n",
       "      <th>Longitude</th>\n",
       "      <th>Venues per Population</th>\n",
       "      <th>Advertising Agency</th>\n",
       "      <th>Afghan Restaurant</th>\n",
       "      <th>African Restaurant</th>\n",
       "      <th>Airport</th>\n",
       "      <th>...</th>\n",
       "      <th>Water Park</th>\n",
       "      <th>Waterfall</th>\n",
       "      <th>Waterfront</th>\n",
       "      <th>Whisky Bar</th>\n",
       "      <th>Wine Bar</th>\n",
       "      <th>Wine Shop</th>\n",
       "      <th>Winery</th>\n",
       "      <th>Yoga Studio</th>\n",
       "      <th>Zoo</th>\n",
       "      <th>Zoo Exhibit</th>\n",
       "    </tr>\n",
       "  </thead>\n",
       "  <tbody>\n",
       "    <tr>\n",
       "      <th>0</th>\n",
       "      <td>Bergisch Gladbach</td>\n",
       "      <td>79</td>\n",
       "      <td>111966</td>\n",
       "      <td>50.992930</td>\n",
       "      <td>7.127738</td>\n",
       "      <td>0.000706</td>\n",
       "      <td>0.0</td>\n",
       "      <td>0.0</td>\n",
       "      <td>0.0</td>\n",
       "      <td>0.0</td>\n",
       "      <td>...</td>\n",
       "      <td>0.000000</td>\n",
       "      <td>0.0</td>\n",
       "      <td>0.000000</td>\n",
       "      <td>0.0</td>\n",
       "      <td>0.0</td>\n",
       "      <td>0.0</td>\n",
       "      <td>0.0</td>\n",
       "      <td>0.0</td>\n",
       "      <td>0.000000</td>\n",
       "      <td>0.0</td>\n",
       "    </tr>\n",
       "    <tr>\n",
       "      <th>1</th>\n",
       "      <td>Bielefeld</td>\n",
       "      <td>71</td>\n",
       "      <td>333786</td>\n",
       "      <td>52.019101</td>\n",
       "      <td>8.531007</td>\n",
       "      <td>0.000213</td>\n",
       "      <td>0.0</td>\n",
       "      <td>0.0</td>\n",
       "      <td>0.0</td>\n",
       "      <td>0.0</td>\n",
       "      <td>...</td>\n",
       "      <td>0.014085</td>\n",
       "      <td>0.0</td>\n",
       "      <td>0.000000</td>\n",
       "      <td>0.0</td>\n",
       "      <td>0.0</td>\n",
       "      <td>0.0</td>\n",
       "      <td>0.0</td>\n",
       "      <td>0.0</td>\n",
       "      <td>0.014085</td>\n",
       "      <td>0.0</td>\n",
       "    </tr>\n",
       "    <tr>\n",
       "      <th>2</th>\n",
       "      <td>Bottrop</td>\n",
       "      <td>85</td>\n",
       "      <td>117383</td>\n",
       "      <td>51.521581</td>\n",
       "      <td>6.929204</td>\n",
       "      <td>0.000724</td>\n",
       "      <td>0.0</td>\n",
       "      <td>0.0</td>\n",
       "      <td>0.0</td>\n",
       "      <td>0.0</td>\n",
       "      <td>...</td>\n",
       "      <td>0.011765</td>\n",
       "      <td>0.0</td>\n",
       "      <td>0.000000</td>\n",
       "      <td>0.0</td>\n",
       "      <td>0.0</td>\n",
       "      <td>0.0</td>\n",
       "      <td>0.0</td>\n",
       "      <td>0.0</td>\n",
       "      <td>0.000000</td>\n",
       "      <td>0.0</td>\n",
       "    </tr>\n",
       "    <tr>\n",
       "      <th>3</th>\n",
       "      <td>Bremerhaven</td>\n",
       "      <td>47</td>\n",
       "      <td>113634</td>\n",
       "      <td>53.552226</td>\n",
       "      <td>8.586551</td>\n",
       "      <td>0.000414</td>\n",
       "      <td>0.0</td>\n",
       "      <td>0.0</td>\n",
       "      <td>0.0</td>\n",
       "      <td>0.0</td>\n",
       "      <td>...</td>\n",
       "      <td>0.000000</td>\n",
       "      <td>0.0</td>\n",
       "      <td>0.042553</td>\n",
       "      <td>0.0</td>\n",
       "      <td>0.0</td>\n",
       "      <td>0.0</td>\n",
       "      <td>0.0</td>\n",
       "      <td>0.0</td>\n",
       "      <td>0.021277</td>\n",
       "      <td>0.0</td>\n",
       "    </tr>\n",
       "    <tr>\n",
       "      <th>4</th>\n",
       "      <td>Chemnitz</td>\n",
       "      <td>55</td>\n",
       "      <td>247237</td>\n",
       "      <td>50.832261</td>\n",
       "      <td>12.925298</td>\n",
       "      <td>0.000222</td>\n",
       "      <td>0.0</td>\n",
       "      <td>0.0</td>\n",
       "      <td>0.0</td>\n",
       "      <td>0.0</td>\n",
       "      <td>...</td>\n",
       "      <td>0.000000</td>\n",
       "      <td>0.0</td>\n",
       "      <td>0.000000</td>\n",
       "      <td>0.0</td>\n",
       "      <td>0.0</td>\n",
       "      <td>0.0</td>\n",
       "      <td>0.0</td>\n",
       "      <td>0.0</td>\n",
       "      <td>0.000000</td>\n",
       "      <td>0.0</td>\n",
       "    </tr>\n",
       "  </tbody>\n",
       "</table>\n",
       "<p>5 rows × 365 columns</p>\n",
       "</div>"
      ],
      "text/plain": [
       "                City  Venues  Population   Latitude  Longitude  \\\n",
       "0  Bergisch Gladbach      79      111966  50.992930   7.127738   \n",
       "1          Bielefeld      71      333786  52.019101   8.531007   \n",
       "2            Bottrop      85      117383  51.521581   6.929204   \n",
       "3        Bremerhaven      47      113634  53.552226   8.586551   \n",
       "4           Chemnitz      55      247237  50.832261  12.925298   \n",
       "\n",
       "   Venues per Population  Advertising Agency  Afghan Restaurant  \\\n",
       "0               0.000706                 0.0                0.0   \n",
       "1               0.000213                 0.0                0.0   \n",
       "2               0.000724                 0.0                0.0   \n",
       "3               0.000414                 0.0                0.0   \n",
       "4               0.000222                 0.0                0.0   \n",
       "\n",
       "   African Restaurant  Airport  ...  Water Park  Waterfall  Waterfront  \\\n",
       "0                 0.0      0.0  ...    0.000000        0.0    0.000000   \n",
       "1                 0.0      0.0  ...    0.014085        0.0    0.000000   \n",
       "2                 0.0      0.0  ...    0.011765        0.0    0.000000   \n",
       "3                 0.0      0.0  ...    0.000000        0.0    0.042553   \n",
       "4                 0.0      0.0  ...    0.000000        0.0    0.000000   \n",
       "\n",
       "   Whisky Bar  Wine Bar  Wine Shop  Winery  Yoga Studio       Zoo  Zoo Exhibit  \n",
       "0         0.0       0.0        0.0     0.0          0.0  0.000000          0.0  \n",
       "1         0.0       0.0        0.0     0.0          0.0  0.014085          0.0  \n",
       "2         0.0       0.0        0.0     0.0          0.0  0.000000          0.0  \n",
       "3         0.0       0.0        0.0     0.0          0.0  0.021277          0.0  \n",
       "4         0.0       0.0        0.0     0.0          0.0  0.000000          0.0  \n",
       "\n",
       "[5 rows x 365 columns]"
      ]
     },
     "execution_count": 20,
     "metadata": {},
     "output_type": "execute_result"
    }
   ],
   "source": [
    "gercities_venues_count_low_grouped = pd.merge(gercities_venues_count_low,\n",
    "                                              gercities_venues_grouped,\n",
    "                                              on='City',\n",
    "                                              how='inner')\n",
    "gercities_venues_count_low_grouped.head()"
   ]
  }
 ],
 "metadata": {
  "kernelspec": {
   "display_name": "Python 3",
   "language": "python",
   "name": "python3"
  },
  "language_info": {
   "codemirror_mode": {
    "name": "ipython",
    "version": 3
   },
   "file_extension": ".py",
   "mimetype": "text/x-python",
   "name": "python",
   "nbconvert_exporter": "python",
   "pygments_lexer": "ipython3",
   "version": "3.7.7"
  }
 },
 "nbformat": 4,
 "nbformat_minor": 4
}
